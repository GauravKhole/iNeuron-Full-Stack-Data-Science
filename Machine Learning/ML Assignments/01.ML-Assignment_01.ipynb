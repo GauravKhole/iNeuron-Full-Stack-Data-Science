{
 "cells": [
  {
   "cell_type": "markdown",
   "id": "f63fd818",
   "metadata": {},
   "source": [
    "# Assignment 01"
   ]
  },
  {
   "cell_type": "markdown",
   "id": "1f813a9f",
   "metadata": {},
   "source": [
    "1. What does one mean by the term \"machine learning\" ?"
   ]
  },
  {
   "cell_type": "markdown",
   "id": "91e46e8f",
   "metadata": {},
   "source": [
    "Ans: Machine learning Popularly known as ML is a branch of Artificial Intelligence (AI) \n",
    "    that allows software applications to become more accurate at predicting outcomes without \n",
    "    being explicitly programmed to do so. Machine learning algorithms use historical data as \n",
    "    input to predict new output values."
   ]
  },
  {
   "cell_type": "markdown",
   "id": "ae0a89b3",
   "metadata": {},
   "source": [
    "2.Can you think of 4 distinct types of issues where it shines ?"
   ]
  },
  {
   "cell_type": "markdown",
   "id": "2c993f77",
   "metadata": {},
   "source": [
    "Ans: The following are some of the issues where Machine Learning can be used:\n",
    "\n",
    "Image Recognition: Image recognition is one of the most common applications of machine learning. \n",
    "It is used to identify objects, persons, places, digital images, etc. \n",
    "The popular use case of image recognition and face detection is Automatic friend tagging suggestion.\n",
    "\n",
    "Speech Recognition: While using Google, we get an option of Search by voice, it comes under speech recognition, \n",
    "and it's a popular application of Machine Learning. Speech recognition is a process of converting voice instructions \n",
    "into text, and it is also known as Speech to text, or Computer based speech recognition At present, \n",
    "machine learning algorithms are widely used by various applications of speech recognition. Google assistant, \n",
    "Siri, Cortana, and Alexa are using speech recognition technology to follow the voice instructions.\n",
    "\n",
    "Traffic prediction: It predicts the traffic conditions such as whether traffic is cleared, slow-moving,\n",
    "or heavily congested with the help of two ways: Real Time location of the vehicle form Google Map app and \n",
    "sensors Average time has taken on past days at the same time.\n",
    "\n",
    "Product recommendations: Machine learning is widely used by various e-commerce and entertainment companies \n",
    "such as Amazon, Netflix, etc., for product recommendation to the user."
   ]
  },
  {
   "cell_type": "markdown",
   "id": "3e88229e",
   "metadata": {},
   "source": [
    "3.What is a labeled training set, and how does it work ?"
   ]
  },
  {
   "cell_type": "markdown",
   "id": "fd69c66a",
   "metadata": {},
   "source": [
    "Ans: You split up the data containing known response variable values into two pieces. \n",
    "    The training set is used to train the algorithm, and then you use the trained model \n",
    "    on the test set to predict the response variable values that are already known."
   ]
  },
  {
   "cell_type": "markdown",
   "id": "0ee29380",
   "metadata": {},
   "source": [
    "4.What are the two most important tasks that are supervised ?"
   ]
  },
  {
   "cell_type": "markdown",
   "id": "a8f3e907",
   "metadata": {},
   "source": [
    "Ans: The two most common supervised learning tasks are Regression and Classification."
   ]
  },
  {
   "cell_type": "markdown",
   "id": "66d14876",
   "metadata": {},
   "source": [
    "5.Can you think of four examples of unsupervised tasks ?"
   ]
  },
  {
   "cell_type": "markdown",
   "id": "afd0f8a8",
   "metadata": {},
   "source": [
    "Ans: Four common Unsupervised Tasks included Clustering, Visualization, \n",
    "    Dimensionality Reduction, and Association Rule Learning."
   ]
  },
  {
   "cell_type": "markdown",
   "id": "b385eedc",
   "metadata": {},
   "source": [
    "6.State the machine learning model that would be best to make a robot walk \n",
    "through various unfamiliar terrains ?"
   ]
  },
  {
   "cell_type": "markdown",
   "id": "1a1b4aaf",
   "metadata": {},
   "source": [
    "Ans: The best Machine Learning algorithm to allow a Robot to walk in unfamiliar \n",
    "    terrains is Reinforced Learning, where the robot can learn from response of \n",
    "    the terrain to optimize itself."
   ]
  },
  {
   "cell_type": "markdown",
   "id": "91b4b603",
   "metadata": {},
   "source": [
    "7.Which algorithm will you use to divide your customers into different groups ?"
   ]
  },
  {
   "cell_type": "markdown",
   "id": "9d9d1936",
   "metadata": {},
   "source": [
    "Ans: The Best Algorithm to Segment Customers into different groups is either Supervised Learning \n",
    "    (if the groups have known labels) or Unsupervised Learning (if there are no group labels)."
   ]
  },
  {
   "cell_type": "markdown",
   "id": "0ab56c8d",
   "metadata": {},
   "source": [
    "8.Will you consider the problem of spam detection to be a supervised or unsupervised learning problem ?"
   ]
  },
  {
   "cell_type": "markdown",
   "id": "0ebe0cfa",
   "metadata": {},
   "source": [
    "Ans: Spam detection is a Supervised Machine Learning problem because the \n",
    "    labels are known (spam or no spam)."
   ]
  },
  {
   "cell_type": "markdown",
   "id": "1f2276d5",
   "metadata": {},
   "source": [
    "9.What is the concept of an online learning system ?"
   ]
  },
  {
   "cell_type": "markdown",
   "id": "6c144c70",
   "metadata": {},
   "source": [
    "Ans: Online learning system is a learning system in which the machine learns \n",
    "    continously, as data is given in small streams continuously."
   ]
  },
  {
   "cell_type": "markdown",
   "id": "375b4830",
   "metadata": {},
   "source": [
    "10.What is out-of-core learning, and how does it differ from core learning ?"
   ]
  },
  {
   "cell_type": "markdown",
   "id": "70462dcd",
   "metadata": {},
   "source": [
    "Ans: Out-of-core learning system is a system that can handle data that cannot fit into \n",
    "    your computer memory. It uses online learning system to feed data in small bits."
   ]
  },
  {
   "cell_type": "markdown",
   "id": "27d27ad5",
   "metadata": {},
   "source": [
    "11.What kind of learning algorithm makes predictions using a similarity measure ?"
   ]
  },
  {
   "cell_type": "markdown",
   "id": "67f03714",
   "metadata": {},
   "source": [
    "Ans: Learning algorithm that relies on a similarity measure to make predictions is Instance Based Algorithm."
   ]
  },
  {
   "cell_type": "markdown",
   "id": "831034a5",
   "metadata": {},
   "source": [
    "12.What's the difference between a model parameter and a hyperparameter in a learning algorithm ?"
   ]
  },
  {
   "cell_type": "markdown",
   "id": "ab714bb0",
   "metadata": {},
   "source": [
    "Ans: Model parameter determines how a model will predict given a new instance. \n",
    "    Model usually has more than one parameter (i.e. slope of a linear model). \n",
    "    Hyperparameter is a parameter for the learning algorithm, not of a model."
   ]
  },
  {
   "cell_type": "markdown",
   "id": "4c2dc589",
   "metadata": {},
   "source": [
    "13.What are the criteria that model-based learning algorithms look for?\n",
    "What is the most popular method they use to achieve success? \n",
    "What method do they use to make predictions ?"
   ]
  },
  {
   "cell_type": "markdown",
   "id": "a895870b",
   "metadata": {},
   "source": [
    "Ans: Model based learning algorithm search for the optimal value of parameters \n",
    "    in a model that will give the best results for the new instances. \n",
    "    We often use a cost function or similar to determine what the parameter value has \n",
    "    to be in order to minimize the function. The model makes prediction by using the \n",
    "    value of the new instance and the parameters in its function."
   ]
  },
  {
   "cell_type": "markdown",
   "id": "68d1b1ed",
   "metadata": {},
   "source": [
    "14.Can you name four of the most important Machine Learning challenges ?"
   ]
  },
  {
   "cell_type": "markdown",
   "id": "c3cff256",
   "metadata": {},
   "source": [
    "Ans: Four main challenges in Machine Learning include the following:\n",
    "\n",
    "Overfitting the Data (using a model too complicated)\n",
    "Underfitting the data (using a simple model)\n",
    "Lacking in Data\n",
    "Non Representative Data."
   ]
  },
  {
   "cell_type": "markdown",
   "id": "1d8e6615",
   "metadata": {},
   "source": [
    "15.What happens if the model performs well on the training data but fails to generalize the results to new situations?\n",
    "Can you think of three different options ?"
   ]
  },
  {
   "cell_type": "markdown",
   "id": "6603ce7a",
   "metadata": {},
   "source": [
    "Ans: If the model performs poorly to new instances, \n",
    "    then it has overfitted on the training data. \n",
    "    To solve this, we can do any of the following three:\n",
    "\n",
    "Get more data\n",
    "Implement a simpler model\n",
    "Eliminate outliers or noise from the existing data set."
   ]
  },
  {
   "cell_type": "markdown",
   "id": "70fbeb4c",
   "metadata": {},
   "source": [
    "16.What exactly is a test set, and why would you need one ?"
   ]
  },
  {
   "cell_type": "markdown",
   "id": "b8ab6f71",
   "metadata": {},
   "source": [
    "Ans: Test set is a set to test your model (fit using training data) to see how it performs.\n",
    "    Test set is necessary to determine how good (or bad) a model performs."
   ]
  },
  {
   "cell_type": "markdown",
   "id": "53a559ac",
   "metadata": {},
   "source": [
    "17.What is a validation set's purpose ?"
   ]
  },
  {
   "cell_type": "markdown",
   "id": "da5b257c",
   "metadata": {},
   "source": [
    "Ans: Validation set is a set used to compare between different training models."
   ]
  },
  {
   "cell_type": "markdown",
   "id": "504a8ee6",
   "metadata": {},
   "source": [
    "18.What precisely is the train-dev kit, when will you need it, how do you put it to use ?"
   ]
  },
  {
   "cell_type": "markdown",
   "id": "def93fdf",
   "metadata": {},
   "source": [
    "Ans: Cross-validation is a tool to compare models without needing a separate validation set.\n",
    "    It is preferred over validation set because we can save from breaking of part of the training \n",
    "    set to create a validation set, as having more data is valuable regardless."
   ]
  },
  {
   "cell_type": "markdown",
   "id": "c7ae21b2",
   "metadata": {},
   "source": [
    "19.What could go wrong if you use the test set to tune hyperparameters ?"
   ]
  },
  {
   "cell_type": "markdown",
   "id": "c62f2b80",
   "metadata": {},
   "source": [
    "Ans: If you tune hyperparameters using the test sets, then it may not perform well\n",
    "    on the out-of-sample data because the model is tuned just for that specific set"
   ]
  }
 ],
 "metadata": {
  "kernelspec": {
   "display_name": "Python 3 (ipykernel)",
   "language": "python",
   "name": "python3"
  },
  "language_info": {
   "codemirror_mode": {
    "name": "ipython",
    "version": 3
   },
   "file_extension": ".py",
   "mimetype": "text/x-python",
   "name": "python",
   "nbconvert_exporter": "python",
   "pygments_lexer": "ipython3",
   "version": "3.11.3"
  }
 },
 "nbformat": 4,
 "nbformat_minor": 5
}
