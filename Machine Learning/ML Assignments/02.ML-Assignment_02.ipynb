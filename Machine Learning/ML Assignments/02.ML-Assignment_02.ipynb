{
 "cells": [
  {
   "cell_type": "markdown",
   "id": "0d9ac831",
   "metadata": {},
   "source": [
    "# Assignment 02"
   ]
  },
  {
   "cell_type": "markdown",
   "id": "485e0bc9",
   "metadata": {},
   "source": [
    "1. What is the concept of human learning? Please give two examples ?"
   ]
  },
  {
   "cell_type": "markdown",
   "id": "0f1f6a24",
   "metadata": {},
   "source": [
    "Ans: Human learning is the form of learning which requires higher order mental processes like \n",
    "    thinking, reasoning, intelligence, etc.We learn different concepts from childhood. \n",
    "For example:\n",
    "Learning through Association - Classical Conditioning.\n",
    "Learning through consequences – Operant Conditioning.\n",
    "Learning through observation – Modeling/Observational Learning."
   ]
  },
  {
   "cell_type": "markdown",
   "id": "0c61950e",
   "metadata": {},
   "source": [
    "2. What different forms of human learning are there?\n",
    "Are there any machine learning equivalents ?"
   ]
  },
  {
   "cell_type": "markdown",
   "id": "d379f358",
   "metadata": {},
   "source": [
    "Ans: Different Forms of ML are as follows :\n",
    "\n",
    "Artificial Intelligence Learning Theories. Machine Learning. \n",
    "Reinforcement Learning. Supervised Learning. Unsupervised Learning.\n",
    "ML equivalents like Linear regression, decision trees, random forest and support \n",
    "vector machines are some commonly used techniques that are actually examples of supervised learning."
   ]
  },
  {
   "cell_type": "markdown",
   "id": "7836a94b",
   "metadata": {},
   "source": [
    "3. What is machine learning, and how does it work? \n",
    "What are the key responsibilities of machine learning ?"
   ]
  },
  {
   "cell_type": "markdown",
   "id": "ee3232bf",
   "metadata": {},
   "source": [
    "Ans: Machine learning is a branch of Artificial intelligence (AI) that teaches \n",
    "    computers on how to think in a similar way to how humans do, like by Learning \n",
    "    and improving upon past experiences.\n",
    "\n",
    "It works by exploring data and identifying patterns, and involves minimal human intervention.\n",
    "Roles and responsibilities of a machine learning engineer are:\n",
    "1. Designing ML systems.\n",
    "2. Researching and implementing ML algorithms and tools. Selecting appropriate data sets.\n",
    "3. Picking appropriate data representation methods. Identifying differences in data distribution \n",
    "that affects model performance. Verifying data quality."
   ]
  },
  {
   "cell_type": "markdown",
   "id": "19dd23f6",
   "metadata": {},
   "source": [
    "4. Define the terms \"penalty\" and \"reward\" in the context of reinforcement learning ?"
   ]
  },
  {
   "cell_type": "markdown",
   "id": "8dcf761d",
   "metadata": {},
   "source": [
    "Ans: A Reinforcement Learning Algorithm, which may also be referred to as an agent, \n",
    "    learns by interacting with its environment. The agent receives rewards by performing \n",
    "    correctly and penalties for performing incorrectly. The agent learns without intervention \n",
    "    from a human by maximizing its reward and minimizing its penalty."
   ]
  },
  {
   "cell_type": "markdown",
   "id": "4997c74d",
   "metadata": {},
   "source": [
    "5. Explain the term \"learning as a search\" ?"
   ]
  },
  {
   "cell_type": "markdown",
   "id": "ec6990f5",
   "metadata": {},
   "source": [
    "Ans: Learning can be viewed as a search through the space of all sentences in a concept \n",
    "    description language for a sentence that best describes the data. Alternatively, \n",
    "    it can be viewed as a search through all hypotheses in a hypothesis space."
   ]
  },
  {
   "cell_type": "markdown",
   "id": "adbc7e7a",
   "metadata": {},
   "source": [
    "6. What are the various goals of machine learning? \n",
    "What is the relationship between these and human learning ?"
   ]
  },
  {
   "cell_type": "markdown",
   "id": "02e100ae",
   "metadata": {},
   "source": [
    "Ans: The Goal of machine learning, closely coupled with the goal of AI, \n",
    "    is to achieve a through understanding about the nature of learning process \n",
    "    (both human learning and other forms of learning), about the computational \n",
    "    aspects of learning behaviors, and to implant the learning capability in computer systems.\n",
    "\n",
    "    Humans have the ability to learn, however with the progress in artificial intelligence, \n",
    "    machine learning has become a resource which can augment or even replace human learning. \n",
    "    Learning does not happen all at once, but it builds upon and is shaped by previous knowledge."
   ]
  },
  {
   "cell_type": "markdown",
   "id": "9cbd756e",
   "metadata": {},
   "source": [
    "7. Illustrate the various elements of machine learning using a real-life illustration ?"
   ]
  },
  {
   "cell_type": "markdown",
   "id": "f27693ba",
   "metadata": {},
   "source": [
    "Ans: The Various elements of the the Machine Learning are:\n",
    "\n",
    "1. Data\n",
    "2. Task\n",
    "3. Model\n",
    "4. Loss Function\n",
    "5. Learning Algorithm\n",
    "6. Evaluation"
   ]
  },
  {
   "cell_type": "markdown",
   "id": "01af70f6",
   "metadata": {},
   "source": [
    "8. Provide an example of the abstraction method ?"
   ]
  },
  {
   "cell_type": "markdown",
   "id": "5bef7a8d",
   "metadata": {},
   "source": [
    "Ans: In Machine Learning, Abstraction is supported primarily at the level of modules.\n",
    "    This can be justified in two ways: first, Data abstraction is mostly a question of \n",
    "    program interfaces and therefore it arises naturally at the point where we have to \n",
    "    consider program composition and modules."
   ]
  },
  {
   "cell_type": "markdown",
   "id": "d0d5f683",
   "metadata": {},
   "source": [
    "9. What is the concept of generalization? \n",
    "What function does it play in the machine learning process ?"
   ]
  },
  {
   "cell_type": "markdown",
   "id": "8258f0d4",
   "metadata": {},
   "source": [
    "    Ans: Generalization refers to your model's ability to adapt properly to new, \n",
    "    previously unseen data, drawn from the same distribution as the one used to create the model.\n",
    "\n",
    "    In machine learning, generalization is a definition to demonstrate how well is a trained model \n",
    "    to classify or forecast unseen data.This issue can result to classify an actual dog image as a cat\n",
    "    from the unseen dataset. Therefore, data diversity is very important factor in order to make a good \n",
    "    prediction."
   ]
  },
  {
   "cell_type": "markdown",
   "id": "302eecc9",
   "metadata": {},
   "source": [
    "10. What is classification, exactly? \n",
    "What are the main distinctions between classification and regression ?"
   ]
  },
  {
   "cell_type": "markdown",
   "id": "c0145172",
   "metadata": {},
   "source": [
    "Ans: In Machine Learning, Classification refers to a predictive modeling problem where a class \n",
    "    label is predicted for a given example of input data.Classification is the task of predicting \n",
    "    a discrete class label. Whereas Regression is the task of predicting a continuous quantity."
   ]
  },
  {
   "cell_type": "markdown",
   "id": "4e8239df",
   "metadata": {},
   "source": [
    "11. What is regression, and how does it work? \n",
    "`Give an example of a real-world problem that was solved using regression ?"
   ]
  },
  {
   "cell_type": "markdown",
   "id": "21872a6b",
   "metadata": {},
   "source": [
    "Ans: Regression is a Supervised Machine Learning technique which is used to predict continuous values.\n",
    "    The ultimate goal of a regression algorithm is to plot a best-fit line or a curve between the data.\n",
    "\n",
    "    The three main metrics that are used for evaluating the trained regression model are Variance, Bias and Error."
   ]
  },
  {
   "cell_type": "markdown",
   "id": "b365dd72",
   "metadata": {},
   "source": [
    "12. Describe the clustering mechanism in detail ?"
   ]
  },
  {
   "cell_type": "markdown",
   "id": "63ec2159",
   "metadata": {},
   "source": [
    "Ans: Clustering is the task of dividing the population or data points into a number of \n",
    "    groups such that data points in the same groups are more similar to other data points \n",
    "    in the same group than those in other groups. In simple words, the aim is to segregate groups \n",
    "    with similar traits and assign them into clusters."
   ]
  },
  {
   "cell_type": "markdown",
   "id": "c18bfaa8",
   "metadata": {},
   "source": [
    "13. Make brief observations on two of the following topics ?\n",
    "    1. Machine learning algorithms are used\n",
    "    2. Studying under supervision\n",
    "    3. Studying without supervision\n",
    "    4. Reinforcement learning is a form of learning based on positive reinforcement."
   ]
  },
  {
   "cell_type": "markdown",
   "id": "98e69da0",
   "metadata": {},
   "source": [
    "Ans: The breif observations on the following two topics is:\n",
    "\n",
    "Machine learning algorithms are used: At its Most basic, Machine Learning uses programmed \n",
    "algorithms that receive and analyse input data to predict output values within an acceptable range. \n",
    "As new data is fed to these algorithms, they learn and optimise their operations to improve performance, \n",
    "developing intelligence over time.\n",
    "\n",
    "Studying Under Supervision: In machine learning, there are two important categories- Supervised and \n",
    "Unsupervised learning.Supervised learning, an algorithm learns from a training dataset. We know the \n",
    "correct answers or desired output, the algorithm makes predictions using the given dataset and is corrected by the “supervisor”."
   ]
  }
 ],
 "metadata": {
  "kernelspec": {
   "display_name": "Python 3 (ipykernel)",
   "language": "python",
   "name": "python3"
  },
  "language_info": {
   "codemirror_mode": {
    "name": "ipython",
    "version": 3
   },
   "file_extension": ".py",
   "mimetype": "text/x-python",
   "name": "python",
   "nbconvert_exporter": "python",
   "pygments_lexer": "ipython3",
   "version": "3.11.3"
  }
 },
 "nbformat": 4,
 "nbformat_minor": 5
}
