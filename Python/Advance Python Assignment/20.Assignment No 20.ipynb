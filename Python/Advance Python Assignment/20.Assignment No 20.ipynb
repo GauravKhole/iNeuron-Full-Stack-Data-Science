{
 "cells": [
  {
   "cell_type": "code",
   "execution_count": null,
   "id": "be237010",
   "metadata": {},
   "outputs": [],
   "source": [
    "1. Compare and contrast the float and Decimal classes' benefits and drawbacks ?\n",
    "\n",
    "Both the float and decimal types store numerical values in Python.\n",
    "Use floats when convenience and speed matter.\n",
    "A float gives you an approximation of the number you declare.\n",
    "Use decimals when precision matters. \n",
    "Decimals can suffer from their own precision issues, but generally, decimals are \n",
    "more precise than floats. The performance difference between float and decimal, \n",
    "with Python 3, is not outlandish, and in my experience, the precision benefits \n",
    "of a decimal outweigh the performance benefits of a float."
   ]
  },
  {
   "cell_type": "code",
   "execution_count": null,
   "id": "13c18b59",
   "metadata": {},
   "outputs": [],
   "source": [
    "2. Decimal('1.200') and Decimal('1.2') are two objects to consider. \n",
    "In what sense are these the same object? \n",
    "Are these just two ways of representing the exact same value, \n",
    "or do they correspond to different internal states ?\n",
    "\n",
    "Both values are same but internal representation at storage Is different. \n",
    "Precsion differs, Decimal('1.200') gives internally 1.200 and Decimal('1.2') gives 1.2."
   ]
  },
  {
   "cell_type": "code",
   "execution_count": null,
   "id": "b57ab1a3",
   "metadata": {},
   "outputs": [],
   "source": [
    "3. What happens if the equality of Decimal('1.200') and Decimal('1.2') is checked ?\n",
    "\n",
    "Both values are checked to be equal , they only differ in precision."
   ]
  },
  {
   "cell_type": "code",
   "execution_count": null,
   "id": "80d909ac",
   "metadata": {},
   "outputs": [],
   "source": [
    "4. Why is it preferable to start a Decimal object with a string rather than a floating-point value ?\n",
    "\n",
    "Floating-point value is converted to Decimal format. Decimal can store float value with absolute precision. \n",
    "But when float value is given as Decimal object,it first has to be converted from floating point value which \n",
    "might already have rounding error.\n",
    "Hence it is preferable to start a Decimal object with a string."
   ]
  },
  {
   "cell_type": "code",
   "execution_count": null,
   "id": "0b120af4",
   "metadata": {},
   "outputs": [],
   "source": [
    "5. In an arithmetic phrase, how simple is it to combine Decimal objects with integers ?\n",
    "\n",
    "We can do it with use of Decimal()."
   ]
  },
  {
   "cell_type": "code",
   "execution_count": null,
   "id": "8aab6c1f",
   "metadata": {},
   "outputs": [],
   "source": [
    "6. Can Decimal objects and floating-point values be combined easily ?\n",
    "\n",
    "Arithmetic operfations like Adding,subtracting or multiplying a Decimal object \n",
    "by a floating-point value is generates an error.\n",
    "To do these operations, the floating point has to be converted to a Decimal."
   ]
  },
  {
   "cell_type": "code",
   "execution_count": null,
   "id": "f9142457",
   "metadata": {},
   "outputs": [],
   "source": [
    "7. Using the Fraction class but not the Decimal class, \n",
    "give an example of a quantity that can be expressed with absolute precision ?\n",
    "\n",
    "Value of 0.5 will be represented as ½."
   ]
  },
  {
   "cell_type": "code",
   "execution_count": null,
   "id": "53f66c71",
   "metadata": {},
   "outputs": [],
   "source": [
    "8. Describe a quantity that can be accurately expressed by the Decimal or Fraction classes but not by\n",
    "a floating-point value.\n",
    "\n",
    "The precision of a decimal number is higher than both float and double. \n",
    "The precision of a float number is lower than both double and decimal. \n",
    "The precision of a double number is higher than float but lower than decimal. The accuracy of the decimal is higher than float and double."
   ]
  },
  {
   "cell_type": "code",
   "execution_count": null,
   "id": "e24d265b",
   "metadata": {},
   "outputs": [],
   "source": [
    "9.Consider the following two fraction objects: Fraction(1, 2) and Fraction(1, 2). (5, 10). \n",
    "Is the internal state of these two objects the same? Why do you think that is ?\n",
    "\n",
    "Both will be reduced to 1/2"
   ]
  },
  {
   "cell_type": "code",
   "execution_count": null,
   "id": "78d1ee8a",
   "metadata": {},
   "outputs": [],
   "source": [
    "10. How do the Fraction class and the integer type (int) relate to each other? \n",
    "Containment or inheritance ?\n",
    "\n",
    "Fraction class and integer type(int) are related in form of a container.\n",
    "It contains two ints, one the numerator and the other the denominator"
   ]
  }
 ],
 "metadata": {
  "kernelspec": {
   "display_name": "Python 3 (ipykernel)",
   "language": "python",
   "name": "python3"
  },
  "language_info": {
   "codemirror_mode": {
    "name": "ipython",
    "version": 3
   },
   "file_extension": ".py",
   "mimetype": "text/x-python",
   "name": "python",
   "nbconvert_exporter": "python",
   "pygments_lexer": "ipython3",
   "version": "3.11.3"
  }
 },
 "nbformat": 4,
 "nbformat_minor": 5
}
