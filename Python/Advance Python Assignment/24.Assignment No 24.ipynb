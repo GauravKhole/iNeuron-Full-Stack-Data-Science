{
 "cells": [
  {
   "cell_type": "code",
   "execution_count": null,
   "id": "d8d5d160",
   "metadata": {},
   "outputs": [],
   "source": [
    "Q1. Is it permissible to use several import statements to import the same module? \n",
    "What would the goal be? \n",
    "Can you think of a situation where it would be beneficial ?\n",
    "\n",
    "Yes, it is permissible to use several import statements to import the same module. \n",
    "It is used in case when we have to import multiple functions from same module."
   ]
  },
  {
   "cell_type": "code",
   "execution_count": null,
   "id": "d3465ace",
   "metadata": {},
   "outputs": [],
   "source": [
    "Q2. What are some of a module's characteristics? (Name at least one.)\n",
    "\n",
    "The following are some of a module's characteristics:\n",
    "\n",
    "__name__ : It returns the name of the module\n",
    "__doc__ : It denotes the documentation string line written in a module code.\n",
    "__file__ : It holds the name and path of the module file from which it is loaded\n",
    "__dict__ : It return a dictionary object of module attributes, functions and other \n",
    "definitions and their respective values"
   ]
  },
  {
   "cell_type": "code",
   "execution_count": null,
   "id": "46861cc8",
   "metadata": {},
   "outputs": [],
   "source": [
    "Q3. Circular importing, such as when two modules import each other, \n",
    "can lead to dependencies and bugs that aren't visible. \n",
    "How can you go about creating a program that avoids mutual importing?\n",
    "\n",
    "Circular importing means importing the two modules in each other. \n",
    "If suppose we are wokring in MOD1.py file and it is importing some function say F2() \n",
    "from some other module say MOD2.PY file or we can do vice-versa. What will happen is: \n",
    "This will give an import error.\n",
    "This is because when we import F2() function from module MOD2.py, then this will execute \n",
    "MOD2.py file. And in MOD2.py file there is an another statement of importing MOD1.py module.\n",
    "This will result in endless loop. To avoid this error just do one thingWe can \n",
    "use if __name__ == '__main__'\n",
    "In the function, you can't directly refer to the function in the program. \n",
    "The addition of this sentence avoids the endless loop of the program ."
   ]
  },
  {
   "cell_type": "code",
   "execution_count": null,
   "id": "c15febc5",
   "metadata": {},
   "outputs": [],
   "source": [
    "Q4. Why is __all__ in Python ?\n",
    "\n",
    "It provides list of all modules present in a library."
   ]
  },
  {
   "cell_type": "code",
   "execution_count": null,
   "id": "e4a22114",
   "metadata": {},
   "outputs": [],
   "source": [
    "Q5. In what situation is it useful to refer to the __name__ attribute or the string __main_ _ ?\n",
    "\n",
    "During the time of execution of the code if we want to refer the module in which we are working \n",
    "on then we uses name attribute. In that case it will return the module in which we are working on. \n",
    "Suppose if that moudle is being imported from some other module then name will have the name of that \n",
    "moudle from where the current module has been imported. \n",
    "The current module in which we are working is refer to the string __main __."
   ]
  },
  {
   "cell_type": "code",
   "execution_count": null,
   "id": "8a309f5a",
   "metadata": {},
   "outputs": [],
   "source": [
    "Q6. What are some of the benefits of attaching a program counter to the RPN interpreter\n",
    "application, which interprets an RPN script line by line?\n",
    "\n",
    "The advantage of reverse Polish notation is that it removes the need for order of operations \n",
    "and parentheses that are required by infix notation and can be evaluated linearly, left-to-right."
   ]
  },
  {
   "cell_type": "code",
   "execution_count": null,
   "id": "dacefbe7",
   "metadata": {},
   "outputs": [],
   "source": [
    "Q7. What are the minimum expressions or statements (or both) that you need to render a basic\n",
    "programming language like RPN primitive but complete— that is, capable of carrying out any\n",
    "computerised task theoretically possible?\n",
    "\n",
    "Conditional Statements Are statements that check an expression then may or may not execute a \n",
    "statement or group of statement depending on the result of the condition."
   ]
  }
 ],
 "metadata": {
  "kernelspec": {
   "display_name": "Python 3 (ipykernel)",
   "language": "python",
   "name": "python3"
  },
  "language_info": {
   "codemirror_mode": {
    "name": "ipython",
    "version": 3
   },
   "file_extension": ".py",
   "mimetype": "text/x-python",
   "name": "python",
   "nbconvert_exporter": "python",
   "pygments_lexer": "ipython3",
   "version": "3.11.3"
  }
 },
 "nbformat": 4,
 "nbformat_minor": 5
}
