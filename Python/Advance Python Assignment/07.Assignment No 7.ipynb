{
 "cells": [
  {
   "cell_type": "code",
   "execution_count": null,
   "id": "6ba4be1b",
   "metadata": {},
   "outputs": [],
   "source": [
    "Q1. What is the purpose of the try statement?\n",
    "\n",
    "try statement is used for exception handling in python. it consists of a block \n",
    "of risky statements which might cause an exception during runtime. if code within \n",
    "try block raises exception, then the exception will be reverted to the corresponding \n",
    "except block if multiple except blocks are present, else it willbe reverted to the \n",
    "default except block. In short try and except in union avoid programs from crashing \n",
    "during runtime due to exceptions."
   ]
  },
  {
   "cell_type": "code",
   "execution_count": null,
   "id": "4d985b66",
   "metadata": {},
   "outputs": [],
   "source": [
    "Q2. What are the two most popular try statement variations?\n",
    "\n",
    "The Popular try statement variations are:\n",
    "\n",
    "try,except\n",
    "try,except,finally\n",
    "try,except,finally,else\n",
    "The try block is used to check code for exceptions during runtime. ie code inside try block \n",
    "will execute completely when there is no error in the program. Whereas the code inside except \n",
    "block will execute whenever the program encounters some error in the preceeding try block.\n",
    "\n",
    "Whereas the code enters the else block if and only if the try clause does not raise and exception. \n",
    "The code in the finally block will execute irrespective of exception."
   ]
  },
  {
   "cell_type": "code",
   "execution_count": null,
   "id": "b6bced8d",
   "metadata": {},
   "outputs": [],
   "source": [
    "Q3. What is the purpose of the raise statement?\n",
    "\n",
    "raise statement is used to trigger an exception explicitly, if a certain condition is\n",
    "not as per requirement of programmer. raise statement helps in triggering exception as \n",
    "per programming logic."
   ]
  },
  {
   "cell_type": "code",
   "execution_count": null,
   "id": "00be93e4",
   "metadata": {},
   "outputs": [],
   "source": [
    "Q4. What does the assert statement do, and what other statement is it like?\n",
    "\n",
    "There are few assertions that programmer always want to be true to avoid code failure. \n",
    "This type of requirement is fulfilled by assert statement. This statement takes a boolean \n",
    "condition output of which is True, Further Program Executes. if output of assert statement \n",
    "is False, it raises an Assertion Error."
   ]
  },
  {
   "cell_type": "code",
   "execution_count": null,
   "id": "9866edd9",
   "metadata": {},
   "outputs": [],
   "source": [
    "Q5. What is the purpose of the with/as argument, and what other statement is it like?\n",
    "\n",
    "with/as statement simplifies use of file handling in python. When we use a with statement \n",
    "for file reading, there is no need for programmer to explicitly takecare of activities like \n",
    "resource deallocation and file closing by using file.close() method. with statement itself \n",
    "ensures proper acquisition and release of resources. this avoids triggering of exceptions \n",
    "if file closing is unknowingly forgotten in the code execution."
   ]
  }
 ],
 "metadata": {
  "kernelspec": {
   "display_name": "Python 3 (ipykernel)",
   "language": "python",
   "name": "python3"
  },
  "language_info": {
   "codemirror_mode": {
    "name": "ipython",
    "version": 3
   },
   "file_extension": ".py",
   "mimetype": "text/x-python",
   "name": "python",
   "nbconvert_exporter": "python",
   "pygments_lexer": "ipython3",
   "version": "3.11.3"
  }
 },
 "nbformat": 4,
 "nbformat_minor": 5
}
