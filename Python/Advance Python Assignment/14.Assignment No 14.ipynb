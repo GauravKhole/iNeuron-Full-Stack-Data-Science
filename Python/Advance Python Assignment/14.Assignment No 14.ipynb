{
 "cells": [
  {
   "cell_type": "code",
   "execution_count": null,
   "id": "cad9f51e",
   "metadata": {},
   "outputs": [],
   "source": [
    "Q1. Is an assignment operator like += only for show? Is it possible that it would lead to faster results at the runtime ?\n",
    "\n",
    "A=A+1 evaluates to finding A, adding 1 to it. Then storing the value again in variable A. This expression makes Python to\n",
    "look for memory holder of a twice. But A+=1 simply means value of A is to incremented by 1. As memory address has to be \n",
    "identified once, += leads to faster operation."
   ]
  },
  {
   "cell_type": "code",
   "execution_count": null,
   "id": "66b35b5e",
   "metadata": {},
   "outputs": [],
   "source": [
    "Q2. What is the smallest no of statements you'd have to write in most programming languages to replace the Python expr a, b = a + b, a ?\n",
    "\n",
    "Minimum number of lines required to write above code in languages other Python will be 4, two for assigning initial values for variables \n",
    "a and b, and two for reassignment i.e. a=a+b and b=a."
   ]
  },
  {
   "cell_type": "code",
   "execution_count": null,
   "id": "7f99786b",
   "metadata": {},
   "outputs": [],
   "source": [
    "Q3. In Python, what is the most effective way to set a list of 100 integers to 0?\n",
    "\n",
    "The Most effective way to set a list of 100 integers to 0 in python is by using repition operator(*) or by using list comprehension.\n",
    "\n",
    "list_zero=[0]*100\n",
    "print(list_zero)"
   ]
  },
  {
   "cell_type": "code",
   "execution_count": null,
   "id": "30a56936",
   "metadata": {},
   "outputs": [],
   "source": [
    "Q4. What is the most effective way to initialise a list of 99 integers that repeats the sequence 1, 2, 3? S If necessary, show step-by-step instructions on how to accomplish this.\n",
    "\n",
    "my_list = [1,2,3]*33\n",
    "print(my_list)"
   ]
  },
  {
   "cell_type": "code",
   "execution_count": null,
   "id": "8702ca9b",
   "metadata": {},
   "outputs": [],
   "source": [
    "Q5. If you're using IDLE to run a Python application, explain how to print a multidimensional list as efficiently?\n",
    "\n",
    "my_list = [[1,1],[2,2],[3,3],[4,4],[5,5]] \n",
    "for x in range(len(my_list)):\n",
    "    for y in range(len(my_list[x])):\n",
    "        print(my_list[x][y],end=\" \")"
   ]
  },
  {
   "cell_type": "code",
   "execution_count": null,
   "id": "0d820301",
   "metadata": {},
   "outputs": [],
   "source": [
    "Q6. Is it possible to use list comprehension with a string? If so, how can you go about doing it?\n",
    "\n",
    "List comprehension with string is possible.\n",
    "my_list = [ele for ele in 'iNeuron']\n",
    "print(my_list)"
   ]
  },
  {
   "cell_type": "code",
   "execution_count": null,
   "id": "0ac824f7",
   "metadata": {},
   "outputs": [],
   "source": [
    "Q7. From the command line, how do you get support with a user-written Python programme? Is this possible from inside IDLE?\n",
    "\n",
    "Get support with a user-written Python Programme: Start a command prompt (Windows) or terminal window (Linux/Mac). If the \n",
    "current working directory is the same as the location in which you saved the file, you can simply specify the filename as \n",
    "a command-line argument to the Python interpreter.\n",
    "\n",
    "Get support with a User-written Python Program from IDLE: You can also create script files and run them in IDLE. From the \n",
    "Shell window menu, select File → New File. That should open an additional editing window. Type in the code to be executed. \n",
    "From the menu in that window, select File → Save or File → Save As… and save the file to disk. Then select Run → Run Module. \n",
    "The output should appear back in the interpreter"
   ]
  },
  {
   "cell_type": "code",
   "execution_count": null,
   "id": "1d6ba87c",
   "metadata": {},
   "outputs": [],
   "source": [
    "Q8. Functions are said to be “first-class objects” in Python but not in most other languages, such as C++ or Java. \n",
    "What can you do in Python with a function (callable object) that you can't do in C or C++?\n",
    "\n",
    "The tasks which can be performed with the functions in python are:\n",
    "\n",
    "A function is an instance of the Object type.\n",
    "You can store the function in a variable.\n",
    "You can pass the function as a parameter to another function.\n",
    "You can return the function from a function.\n",
    "You can store them in data structures such as hash tables, lists,"
   ]
  },
  {
   "cell_type": "code",
   "execution_count": null,
   "id": "f3b161b1",
   "metadata": {},
   "outputs": [],
   "source": [
    "Q9. How do you distinguish between a wrapper, a wrapped feature, and a decorator?\n",
    "\n",
    "Wrappers Around the functions are known as Decrators."
   ]
  },
  {
   "cell_type": "code",
   "execution_count": null,
   "id": "327d669b",
   "metadata": {},
   "outputs": [],
   "source": [
    "Q10. If a function is a generator function, what does it return?\n",
    "\n",
    "Generator functions are a special kind of function that return a lazy iterator. \n",
    "These are objects that you can loop over like a list. However, unlike lists, lazy \n",
    "iterators do not store their contents in memory."
   ]
  },
  {
   "cell_type": "code",
   "execution_count": null,
   "id": "c2d5c785",
   "metadata": {},
   "outputs": [],
   "source": [
    "Q11. What is the one improvement that must be made to a function in order for it to become a generator function in the Python language?\n",
    "\n",
    " Generator is a written as normal function but uses yield keyword to return values instead of return keyword."
   ]
  },
  {
   "cell_type": "code",
   "execution_count": null,
   "id": "cc935890",
   "metadata": {},
   "outputs": [],
   "source": [
    "Q12. Identify at least one benefit of generators.\n",
    "\n",
    "return statement sends a specified value back to its caller whereas yield statment can produce \n",
    "a sequence of values. We should use generator when we want to iterate over a sequence, but don’t \n",
    "want to store the entire sequence in memory."
   ]
  }
 ],
 "metadata": {
  "kernelspec": {
   "display_name": "Python 3 (ipykernel)",
   "language": "python",
   "name": "python3"
  },
  "language_info": {
   "codemirror_mode": {
    "name": "ipython",
    "version": 3
   },
   "file_extension": ".py",
   "mimetype": "text/x-python",
   "name": "python",
   "nbconvert_exporter": "python",
   "pygments_lexer": "ipython3",
   "version": "3.11.3"
  }
 },
 "nbformat": 4,
 "nbformat_minor": 5
}
