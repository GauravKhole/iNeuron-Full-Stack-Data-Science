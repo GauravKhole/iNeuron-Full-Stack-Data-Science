{
 "cells": [
  {
   "cell_type": "code",
   "execution_count": null,
   "id": "a94e7c0f",
   "metadata": {},
   "outputs": [],
   "source": [
    "Q1. In Python 3.X, what are the names and functions of string object types?\n",
    "\n",
    "The following are the names and functions of string object types in Python 3.X\n",
    "\n",
    "<stirng>.isdecimal() -> Returns True if all characters in a string are decimal.\n",
    "<string>.isalnum() -> Returns True if all characters in the string are AlphaNumeric.\n",
    "<string>.istitle() -> Returns True if first character in a string is in Uppercase.\n",
    "<string>.partition(<sub_string>) -> Splits string at first occurance of sub string and returns a tuple of 3 elements.\n",
    "<string>.rpartition(<sub_string>) -> Splits string at last occurance of sub string and returns a tuple of 3 elements.\n",
    "<string>.isidentifier() -> Returns True if give string is a valid identifier name.\n",
    "len(<string>) -> Returns the length of the given string.\n",
    "<string>.index(<sub_string>) -> Returns the lowest index of substring if substring is found in the string.\n",
    "<string>.rindex(<sub_string>) -> Returns the highest index of substring if substring is found in the string.\n",
    "max(<string>) -> Returns the highest Alphabetical Character in the string as per ASCII.\n",
    "min(<string>) -> Returns the lowest Alphabetical Character in the string as per ASCII.\n",
    "<string>.splitlines() -> Returns a list of lines in the string.\n",
    "<string>.capitalize() -> Returns the string with first character capitalized.\n",
    "<string>.upper() -> Returns the string with all characters in uppercase.\n",
    "<string>.lower() -> Returns the string with all characters in lowercase\n",
    "<string>.casefold() -> Returns the string in lowercase which can be used for caseless comparisions."
   ]
  },
  {
   "cell_type": "code",
   "execution_count": null,
   "id": "39264f16",
   "metadata": {},
   "outputs": [],
   "source": [
    "Q2. How do the string forms in Python 3.X vary in terms of operations?\n",
    "\n",
    "In Python3 default format of strings is Unicode Whereas in Pyton2 we need to \n",
    "explicitly mention Unicode value using u."
   ]
  },
  {
   "cell_type": "code",
   "execution_count": null,
   "id": "f1e4a125",
   "metadata": {},
   "outputs": [],
   "source": [
    "Q3. In Python 3.X, how do you put non-ASCII Unicode characters in a string?\n",
    "\n",
    "In Python 3.x unidecode() method from unidecode library can be used to put non-ASCII Unicode Characters in a string."
   ]
  },
  {
   "cell_type": "code",
   "execution_count": null,
   "id": "9cc0162f",
   "metadata": {},
   "outputs": [],
   "source": [
    "Q4. In Python 3.X, what are the key differences between text-mode and binary-mode files?\n",
    "\n",
    "The major difference between these two is that a text file contains textual information \n",
    "in the form of alphabets, digits and special characters or symbols. On the other hand, \n",
    "a binary file contains bytes or a compiled version of a text file.\n",
    "\n",
    "When a file is opened in text mode, reading its data automatically decodes its content\n",
    "(as per the platform default or as per provided encoding), and returns it as a str; \n",
    "writing operation takes a str, and automatically encodes it before transferring to \n",
    "the file. Text mode files also support universal end-of-line translation, \n",
    "and encoding specification arguments.\n",
    "\n",
    "When a file is opened in binary mode by adding a b to the mode string argument in\n",
    "the open() call, reading its data does not decode it in any way, and simply returns \n",
    "its content raw and unchanged, as a bytes object; writing takes a bytes object and \n",
    "transfers it to the file unchanged. Binary-mode files also accept a bytearray object\n",
    "for the content to be written to the file."
   ]
  },
  {
   "cell_type": "code",
   "execution_count": null,
   "id": "af08a6e8",
   "metadata": {},
   "outputs": [],
   "source": [
    "Q5. How can you interpret a Unicode text file containing text encoded in a different encoding than your platform's default?\n",
    "\n",
    "Use of encode() and decode() method can be used to you interpret a Unicode text file containing \n",
    "text encoded in a different encoding than your platform's default, by default encoding parameter\n",
    "is UTF-8"
   ]
  },
  {
   "cell_type": "code",
   "execution_count": null,
   "id": "fe283947",
   "metadata": {},
   "outputs": [],
   "source": [
    "Q6. What is the best way to make a Unicode text file in a particular encoding format?\n",
    "\n",
    "Use str.encode() and file.write() to make a Unicode text file in a particular encoding format, default encoding format is UTF-18.\n",
    "\n",
    "Call str.encode(encoding) with encoding set to utf8 to encode str.\n",
    "Call open(file, mode) to open a file with mode set to wb . wb writes to files in binary mode & preserves UTF-8format.\n",
    "Call file.write(data) to write data to the file."
   ]
  },
  {
   "cell_type": "code",
   "execution_count": null,
   "id": "9f354924",
   "metadata": {},
   "outputs": [],
   "source": [
    "Q7. What qualifies ASCII text as a form of Unicode text?\n",
    "\n",
    "Unicode represents most written languages in the world. ASCII has its equivalent \n",
    "in Unicode. The difference between ASCII and Unicode is that ASCII represents \n",
    "lowercase letters (a-z), uppercase letters (A-Z), digits (0–9) and symbols such \n",
    "as punctuation marks while Unicode represents letters of English, Arabic, Greek \n",
    "etc. mathematical symbols, historical scripts, emoji covering a wide range of \n",
    "characters than ASCII."
   ]
  },
  {
   "cell_type": "code",
   "execution_count": null,
   "id": "db64dd7e",
   "metadata": {},
   "outputs": [],
   "source": [
    "Q8. How much of an effect does the change in string types in Python 3.X have on your code?\n",
    "\n",
    "Python 3 stores strings as Unicode by default whereas Python 2 requires you to mark a string with \n",
    "a u if you want to store it as Unicode. Unicode strings are more versatile than ASCII strings, \n",
    "which are the Python 3.X default, as they can store letters from foreign languages as well as \n",
    "emoji and the standard Roman letters and numerals."
   ]
  }
 ],
 "metadata": {
  "kernelspec": {
   "display_name": "Python 3 (ipykernel)",
   "language": "python",
   "name": "python3"
  },
  "language_info": {
   "codemirror_mode": {
    "name": "ipython",
    "version": 3
   },
   "file_extension": ".py",
   "mimetype": "text/x-python",
   "name": "python",
   "nbconvert_exporter": "python",
   "pygments_lexer": "ipython3",
   "version": "3.11.3"
  }
 },
 "nbformat": 4,
 "nbformat_minor": 5
}
