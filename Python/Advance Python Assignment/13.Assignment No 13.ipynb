{
 "cells": [
  {
   "cell_type": "code",
   "execution_count": null,
   "id": "bf908cf1",
   "metadata": {},
   "outputs": [],
   "source": [
    "Q1. Can you create a programme or function that employs both positive and negative indexing? \n",
    "Is there any repercussion if you do so?\n",
    "\n",
    "my_list = [1,2,3,4,5,6,6,7,8,9,10]\n",
    "def bi_index(in_list,position):\n",
    "    return in_list[position]\n",
    "print('Positive Indexing ->',bi_index(my_list,5))\n",
    "print('Negative Indexing ->',bi_index(my_list,-1))"
   ]
  },
  {
   "cell_type": "code",
   "execution_count": null,
   "id": "404a55e1",
   "metadata": {},
   "outputs": [],
   "source": [
    "Q2. What is the most effective way of starting with 1,000 elements in a Python list? \n",
    "Assume that all elements should be set to the same value.\n",
    "\n",
    "start_list = [1 for x in range(1001)] \n",
    "print(start_list)"
   ]
  },
  {
   "cell_type": "code",
   "execution_count": null,
   "id": "d2c030b4",
   "metadata": {},
   "outputs": [],
   "source": [
    "Q3. How do you slice a list to get any other part while missing the rest? \n",
    "(For example, suppose you want to make a new list with the elements first, third, fifth, seventh, and so on.)\n",
    "\n",
    "my_list = [x for x in range(1,15)]\n",
    "print(f'my_list -> {my_list}')\n",
    "sliced_list = my_list[::2]\n",
    "print(f'sliced_list -> {sliced_list}')"
   ]
  },
  {
   "cell_type": "code",
   "execution_count": null,
   "id": "dbab0957",
   "metadata": {},
   "outputs": [],
   "source": [
    "Q4. Explain the distinctions between indexing and slicing ?\n",
    "\n",
    "Indexing is used when we have to work on index level. While slicing are used over a range of items.\n",
    "\n",
    "my_list = [x for x in range(1,15)]\n",
    "print(f'my_list -> {my_list}')\n",
    "print(f'Example of indexing -> {my_list[1], my_list[5]}')\n",
    "print(f'Example of slicing -> {my_list[1:5]}')"
   ]
  },
  {
   "cell_type": "code",
   "execution_count": null,
   "id": "26544a3d",
   "metadata": {},
   "outputs": [],
   "source": [
    "Q5. What happens if one of the slicing expression's indexes is out of range?\n",
    "\n",
    "If start index is out of range then it will return empty entity.\n",
    "\n",
    "my_list = [x for x in range(1,15)]\n",
    "my_list = [x for x in range(1,15)]\n",
    "print(f'my_list -> {my_list}')\n",
    "print(f'Case #1 -> {my_list[20:]}')\n",
    "print(f'Case #2 -> {my_list[10:100]}')"
   ]
  },
  {
   "cell_type": "code",
   "execution_count": null,
   "id": "b6f04b41",
   "metadata": {},
   "outputs": [],
   "source": [
    "Q6. If you pass a list to a function, and if you want the function to be able to change the values\n",
    "of the list—so that the list is different after the function returns—what action should you do?\n",
    "\n",
    "Always use return statement, if we want the see the changes in the input list.\n",
    "\n",
    "my_list = [1,2,3,4,5,6]\n",
    "def modify_list(in_list):\n",
    "    in_list.append(200)\n",
    "    return in_list\n",
    "print(modify_list(my_list))"
   ]
  },
  {
   "cell_type": "code",
   "execution_count": null,
   "id": "015177a9",
   "metadata": {},
   "outputs": [],
   "source": [
    "Q7. What is the concept of an unbalanced matrix?\n",
    "\n",
    "In Unbalanced Matrix number of rows is not same as number of columns."
   ]
  },
  {
   "cell_type": "code",
   "execution_count": null,
   "id": "18f31974",
   "metadata": {},
   "outputs": [],
   "source": [
    "Q8. Why is it necessary to use either list comprehension or a loop to create arbitrarily large matrices?\n",
    "\n",
    "List comprehension or a Loop helps creation of large matrices easy. it also helps to \n",
    "implemeent and avoid manual errors. it also makes reading code easy. Also lot of time \n",
    "for manual feeding is reduced."
   ]
  }
 ],
 "metadata": {
  "kernelspec": {
   "display_name": "Python 3 (ipykernel)",
   "language": "python",
   "name": "python3"
  },
  "language_info": {
   "codemirror_mode": {
    "name": "ipython",
    "version": 3
   },
   "file_extension": ".py",
   "mimetype": "text/x-python",
   "name": "python",
   "nbconvert_exporter": "python",
   "pygments_lexer": "ipython3",
   "version": "3.11.3"
  }
 },
 "nbformat": 4,
 "nbformat_minor": 5
}
