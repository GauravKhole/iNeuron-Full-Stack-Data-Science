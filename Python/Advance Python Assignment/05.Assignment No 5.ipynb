{
 "cells": [
  {
   "cell_type": "code",
   "execution_count": null,
   "id": "49f1438c",
   "metadata": {},
   "outputs": [],
   "source": [
    "Q1. What is the meaning of multiple inheritance?\n",
    "\n",
    "Inheritence is nothing but reusing the code of Parent class by the child class.\n",
    "Similary when a child class inherits its properties from multiple Parent classes \n",
    "this scenario is called Multiple Inheritence"
   ]
  },
  {
   "cell_type": "code",
   "execution_count": null,
   "id": "89c7a4da",
   "metadata": {},
   "outputs": [],
   "source": [
    "Q2. What is the concept of delegation?\n",
    "\n",
    "Delegation provides a proxy object for any class thay you want on top of the \n",
    "main class. its like a wrapper to your class so that you can access limited \n",
    "resources of the main class.\n",
    "\n",
    "it Wraps the object of main class into a smaller object with limited access\n",
    "\n",
    "Simply Delegation means that you can include a instance of another class as an \n",
    "instance variable, and forward messages to the instance."
   ]
  },
  {
   "cell_type": "code",
   "execution_count": null,
   "id": "c03084a4",
   "metadata": {},
   "outputs": [],
   "source": [
    "Q3. What is the concept of composition?\n",
    "\n",
    "In the concept of Composition, a class refers to one or more other classes by \n",
    "using instances of those classes as a instance variable. irrespective of inheritence \n",
    "in this approach all the parent class members are not inherited into child class,\n",
    "but only required methods from a class are used by using class instances."
   ]
  },
  {
   "cell_type": "code",
   "execution_count": null,
   "id": "9926c6df",
   "metadata": {},
   "outputs": [],
   "source": [
    "Q4. What are bound methods and how do we use them?\n",
    "\n",
    "If a function is an attribute of class and it is accessed via the instances, \n",
    "they are called bound methods. A bound method is one that has self as its first \n",
    "argument. Since these are dependent on the instance of classes, these are also \n",
    "known as instance methods."
   ]
  },
  {
   "cell_type": "code",
   "execution_count": null,
   "id": "9e015a0d",
   "metadata": {},
   "outputs": [],
   "source": [
    "Q5. What is the purpose of pseudoprivate attributes?\n",
    "\n",
    "Pseudoprivate attributes are also useful in larger frameworks or tools, both \n",
    "to avoid introducing new method names that might accidentally hide definitions\n",
    "elsewhere in the class tree and to reduce the chance of internal methods being\n",
    "replaced by names defined lower in the tree. If a method is intended for use \n",
    "only within a class that may be mixed into other classes, the double underscore \n",
    "prefix ensures that the method won't interfere with other names in the tree, \n",
    "especially in multiple-inheritance scenarios\n",
    "\n",
    "Pseudoprivate names also prevent subclasses from accidentally redefining the internal\n",
    "method's names"
   ]
  }
 ],
 "metadata": {
  "kernelspec": {
   "display_name": "Python 3 (ipykernel)",
   "language": "python",
   "name": "python3"
  },
  "language_info": {
   "codemirror_mode": {
    "name": "ipython",
    "version": 3
   },
   "file_extension": ".py",
   "mimetype": "text/x-python",
   "name": "python",
   "nbconvert_exporter": "python",
   "pygments_lexer": "ipython3",
   "version": "3.11.3"
  }
 },
 "nbformat": 4,
 "nbformat_minor": 5
}
