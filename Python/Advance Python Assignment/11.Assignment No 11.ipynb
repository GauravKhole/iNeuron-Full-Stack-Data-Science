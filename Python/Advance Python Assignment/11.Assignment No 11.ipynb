{
 "cells": [
  {
   "cell_type": "code",
   "execution_count": null,
   "id": "dbfd2f63",
   "metadata": {},
   "outputs": [],
   "source": [
    "Q1. What is the concept of a metaclass?\n",
    "\n",
    "Metaclass in Python is a class of a class that defines how a class behaves. \n",
    "A class is itself a instance of Metaclass, and any Instance of Class in Python \n",
    "is an Instance of type metaclass. E.g. Type of of int, str, float, list, tuple \n",
    "and many more is of metaclass type."
   ]
  },
  {
   "cell_type": "code",
   "execution_count": null,
   "id": "5471f042",
   "metadata": {},
   "outputs": [],
   "source": [
    "Q2. What is the best way to declare a class's metaclass?\n",
    "\n",
    "A way to declare a class’ metaclass is by using metaclass keyword in class definition.\n",
    "\n",
    "class meta(type):\n",
    "    pass\n",
    "class class_meta(metaclass=meta):\n",
    "    pass\n",
    "print(type(meta))\n",
    "print(type(class_meta))"
   ]
  },
  {
   "cell_type": "code",
   "execution_count": null,
   "id": "2be87427",
   "metadata": {},
   "outputs": [],
   "source": [
    "Q3. How do class decorators overlap with metaclasses for handling classes ?\n",
    "\n",
    "Anything you can do with a class decorator, you can of course do with a custom \n",
    "metaclasses (just apply the functionality of the \"decorator function\", i.e., \n",
    "the one that takes a class object and modifies it, in the course of the metaclass's \n",
    "__new__ or __init__ that make the class object!)."
   ]
  },
  {
   "cell_type": "code",
   "execution_count": null,
   "id": "89d3a35f",
   "metadata": {},
   "outputs": [],
   "source": [
    "Q4. How do class decorators overlap with metaclasses for handling instances?\n",
    "\n",
    "Anything you can do with a class decorator, you can of course do with a custom \n",
    "metaclass (just apply the functionality of the \"decorator function\", i.e., the \n",
    "one that takes a class object and modifies it, in the course of the metaclass's \n",
    "__new__ or __init__ that make the class object!)."
   ]
  }
 ],
 "metadata": {
  "kernelspec": {
   "display_name": "Python 3 (ipykernel)",
   "language": "python",
   "name": "python3"
  },
  "language_info": {
   "codemirror_mode": {
    "name": "ipython",
    "version": 3
   },
   "file_extension": ".py",
   "mimetype": "text/x-python",
   "name": "python",
   "nbconvert_exporter": "python",
   "pygments_lexer": "ipython3",
   "version": "3.11.3"
  }
 },
 "nbformat": 4,
 "nbformat_minor": 5
}
