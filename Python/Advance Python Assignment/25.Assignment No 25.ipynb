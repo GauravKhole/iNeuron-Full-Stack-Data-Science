{
 "cells": [
  {
   "cell_type": "code",
   "execution_count": null,
   "id": "43de3f47",
   "metadata": {},
   "outputs": [],
   "source": [
    "Q1. What is the distinction between a numpy array and a pandas data frame? \n",
    "Is there a way to convert between the two if there is ?\n",
    "\n",
    "Numpy Ndarray provides a lot of convenient and optimized methods for performing \n",
    "several mathematical operations on vectors.\n",
    "\n",
    "Pandas Dataframe is an in-memory 2-dimensional tabular representation of data. \n",
    "In simpler words, it can be seen as a spreadsheet having rows and columns.\n",
    "\n",
    "Conversion : Dataframe=pandas.DataFrame(array)"
   ]
  },
  {
   "cell_type": "code",
   "execution_count": null,
   "id": "55a20e00",
   "metadata": {},
   "outputs": [],
   "source": [
    "Q2. What can go wrong when an user enters in a stock-ticker symbol, and how do you handle it?\n",
    "\n",
    "If a trading friend talks about a trending stock, and another trader enters the wrong ticker \n",
    "symbol while making a trade, that trader ends up with the wrong asset. That can be a costly mistake. \n",
    "Tickers allow traders to set up watch lists or to use software to keep track of stock prices."
   ]
  },
  {
   "cell_type": "code",
   "execution_count": null,
   "id": "b029e733",
   "metadata": {},
   "outputs": [],
   "source": [
    "Q3. Identify some of the plotting techniques that are used to produce a stock-market chart ?\n",
    "\n",
    "Bar chart, Line Chart are used for plotting."
   ]
  },
  {
   "cell_type": "code",
   "execution_count": null,
   "id": "9b1638bd",
   "metadata": {},
   "outputs": [],
   "source": [
    "Q4. Why is it essential to print a legend on a stock market chart ?\n",
    "\n",
    "Legend will help comparison between different stocks, \n",
    "so will be essential on a stock market chart."
   ]
  },
  {
   "cell_type": "code",
   "execution_count": null,
   "id": "19a4e3d5",
   "metadata": {},
   "outputs": [],
   "source": [
    "Q5. What is the best way to limit the length of a pandas data frame to less than a year ?\n",
    "\n",
    "We can use start and end parameters for that. In start we write the date from where we \n",
    "are starting and at the end we write the end date. SO within this span we can restric \n",
    "the duration.Also we can use the parameters like periods for how much times we need the \n",
    "duration and we can also use the frequency parameter."
   ]
  },
  {
   "cell_type": "code",
   "execution_count": null,
   "id": "afef70ed",
   "metadata": {},
   "outputs": [],
   "source": [
    "Q6. What is the definition of a 180-day moving average ?\n",
    "\n",
    "The 180-day moving average is represented as a line on charts and represents the average \n",
    "price over the past 180 days. The moving average can give traders a sense regarding whether \n",
    "the trend is up or down, while also identifying potential support or resistance areas."
   ]
  },
  {
   "cell_type": "code",
   "execution_count": null,
   "id": "b56a0c1f",
   "metadata": {},
   "outputs": [],
   "source": [
    "Q7. Did the chapters final example use \"indirect\" importing? If so, how exactly do you do it?\n",
    "\n",
    "a situation in which a company buys products from someone in another country using an intermediary \n",
    "(= a person or organization that arranges business agreements), or a product that is bought in this \n",
    "way: The direct or indirect import of diamonds from the country was banned. Some of these goods are \n",
    "indirect imports."
   ]
  }
 ],
 "metadata": {
  "kernelspec": {
   "display_name": "Python 3 (ipykernel)",
   "language": "python",
   "name": "python3"
  },
  "language_info": {
   "codemirror_mode": {
    "name": "ipython",
    "version": 3
   },
   "file_extension": ".py",
   "mimetype": "text/x-python",
   "name": "python",
   "nbconvert_exporter": "python",
   "pygments_lexer": "ipython3",
   "version": "3.11.3"
  }
 },
 "nbformat": 4,
 "nbformat_minor": 5
}
