{
 "cells": [
  {
   "cell_type": "code",
   "execution_count": null,
   "id": "5fa35cce",
   "metadata": {},
   "outputs": [],
   "source": [
    "Q1. What is the relationship between classes and modules?\n",
    "\n",
    "A Python class is like an outline/blueprint/mold for creating a new object. \n",
    "An object is anything that you wish to manipulate or change while working \n",
    "through the code. Every time a class object is instantiated, which is when we \n",
    "declare a variable, a new object is initiated from scratch\n",
    "\n",
    "Whereas in Python, Modules are simply files with the . py extension containing \n",
    "Python code that can be imported inside another Python Program. In simple terms,\n",
    "we can consider a module to be the same as a code library or a file that contains\n",
    "a set of functions/Classes that you want to include in your application."
   ]
  },
  {
   "cell_type": "code",
   "execution_count": null,
   "id": "4089780c",
   "metadata": {},
   "outputs": [],
   "source": [
    "Q2. How do you make instances and classes?\n",
    "\n",
    "For creating a class instance. we call a class by its name and pass the \n",
    "arguments which its __init__ method accepts.\n",
    "\n",
    "Whereas for creating a class, we use the Class keyword. Class keyword is \n",
    "followed by classname and semicolon."
   ]
  },
  {
   "cell_type": "code",
   "execution_count": null,
   "id": "d940f056",
   "metadata": {},
   "outputs": [],
   "source": [
    "Q3. Where and how should be class attributes created?\n",
    "\n",
    "Class attributes or Class level Attributes belong to the class itself. \n",
    "these attributes will be shared by all the instances of the class. \n",
    "Hence these attributes are usually created/defined in the top of class \n",
    "definiation outside all methods."
   ]
  },
  {
   "cell_type": "code",
   "execution_count": null,
   "id": "7f98a90d",
   "metadata": {},
   "outputs": [],
   "source": [
    "Q4. Where and how are instance attributes created?\n",
    "\n",
    "Instances attributes are passed to the class when an object of the class is \n",
    "created. Unlike class attributes, instance attributes are not shared by all \n",
    "objects of the classs. instead each object maintains its own copy of instance\n",
    "attributes at object level. whereas incase of class attributes all instances \n",
    "of class refer to a single copy. Usually instance attributes are defined \n",
    "within the __init__ method of class"
   ]
  },
  {
   "cell_type": "code",
   "execution_count": null,
   "id": "bfcde826",
   "metadata": {},
   "outputs": [],
   "source": [
    "Q5. What does the term \"self\" in a Python class mean?\n",
    "\n",
    "self represents the instance of the class (it represents the object itself). \n",
    "By using the “self” keyword we can access the attributes and methods of the \n",
    "class with in the class in python. It binds the attributes with the given \n",
    "arguments."
   ]
  },
  {
   "cell_type": "code",
   "execution_count": null,
   "id": "8e9f281a",
   "metadata": {},
   "outputs": [],
   "source": [
    "Q6. How does a Python class handle operator overloading?\n",
    "\n",
    "Python Classes handle operator overloading by using special methods called \n",
    "Magic methods. these special methods usually begin and end with __ \n",
    "(double underscore)\n",
    "\n",
    "+ -> __add__()\n",
    "- -> __sub__()\n",
    "* -> __mul__()\n",
    "/ -> __div__()"
   ]
  },
  {
   "cell_type": "code",
   "execution_count": null,
   "id": "1ab19c74",
   "metadata": {},
   "outputs": [],
   "source": [
    "Q7. When do you consider allowing operator overloading of your classes?\n",
    "\n",
    "When we want to have different meaning for the same operator accroding to the\n",
    "context we use operator overloading."
   ]
  },
  {
   "cell_type": "code",
   "execution_count": null,
   "id": "3adb4cc2",
   "metadata": {},
   "outputs": [],
   "source": [
    "Q8. What is the most popular form of operator overloading?\n",
    "\n",
    "The most popular form of operator overloading in python is by special methods \n",
    "called Magic methods. Which usually beign and end with double underscore\n",
    "__<method name>__."
   ]
  },
  {
   "cell_type": "code",
   "execution_count": null,
   "id": "071a0be2",
   "metadata": {},
   "outputs": [],
   "source": [
    "Q9. What are the two most important concepts to grasp in order to comprehend \n",
    "Python OOP code?\n",
    "\n",
    "Classes and objects are the two concepts to comprehend python OOP code as \n",
    "more formally objects are entities that represent instances of general abstract\n",
    "concept called class\n",
    "\n",
    "Along with classes and objects the important concepts to grasp are:\n",
    "\n",
    "Inheritence\n",
    "Abstraction\n",
    "Polymorphism\n",
    "Encapsulation"
   ]
  }
 ],
 "metadata": {
  "kernelspec": {
   "display_name": "Python 3 (ipykernel)",
   "language": "python",
   "name": "python3"
  },
  "language_info": {
   "codemirror_mode": {
    "name": "ipython",
    "version": 3
   },
   "file_extension": ".py",
   "mimetype": "text/x-python",
   "name": "python",
   "nbconvert_exporter": "python",
   "pygments_lexer": "ipython3",
   "version": "3.11.3"
  }
 },
 "nbformat": 4,
 "nbformat_minor": 5
}
