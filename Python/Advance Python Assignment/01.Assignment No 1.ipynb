{
 "cells": [
  {
   "cell_type": "code",
   "execution_count": null,
   "id": "3c775d48",
   "metadata": {},
   "outputs": [],
   "source": [
    "1. What is the purpose of Python's OOP?\n",
    "\n",
    "Object-oriented programming is a programming paradigm that provides a means of structuring programs so that properties and behaviors are bundled into individual objects\n",
    "\n",
    "In Python, object-oriented Programming (OOPs) uses objects and classes in programming.\n",
    "It aims to implement real-world entities like inheritance, polymorphisms, encapsulation, etc. in the programming.\n",
    "The main concept of OOPs is to bind the data and the functions that work on that together as a single unit so that no other part of the code can access this data.\n",
    "It comes up with the following advantages:\n",
    "It helps to divide our over all program into different small segments and thus making it solving easy with the use of objects\n",
    "Helps in easy maintenance and modification of existing program\n",
    "Multiple instances of an object can be made."
   ]
  },
  {
   "cell_type": "code",
   "execution_count": null,
   "id": "37e265df",
   "metadata": {},
   "outputs": [],
   "source": [
    "2. Where does an inheritance search look for an attribute?\n",
    "\n",
    "Python searches for an attribute in an upward tree of attributes. \n",
    "it first searches for the attribute in its instance and then looks in the \n",
    "class it is generated from, to all super classes listed in its class header"
   ]
  },
  {
   "cell_type": "code",
   "execution_count": null,
   "id": "e9b7430e",
   "metadata": {},
   "outputs": [],
   "source": [
    "3. How do you distinguish between a class object and an instance object?\n",
    "\n",
    "The differences between a class object and an instance object are:\n",
    "\n",
    "Class is a template for creating objects whereas object is an instance of class\n",
    "Seperate memory is allocated for each object whenever an object is created. but for a class this doesnot happens.\n",
    "A Class is created once. Many objects are created using a class.\n",
    "As Classes have no allocated memory. they can't be manipulated. but objects can be manipulated.\n"
   ]
  },
  {
   "cell_type": "code",
   "execution_count": null,
   "id": "fb37669d",
   "metadata": {},
   "outputs": [],
   "source": [
    "4. What makes the first argument in a class’s method function special\n",
    "\n",
    "Python Classes usually have three types of methods which are:\n",
    "\n",
    "Instance Methods (object level methods)\n",
    "Class Methods (class level methods)\n",
    "Static Methods (general utility methods)\n",
    "self is the first argument for instance methods. which refers to the object itself\n",
    "cls is the first argument for class methods which refers to the class itself"
   ]
  },
  {
   "cell_type": "code",
   "execution_count": null,
   "id": "adfb6333",
   "metadata": {},
   "outputs": [],
   "source": [
    "5. What is the purpose of the __init__ method?\n",
    "\n",
    "__init__ is a reseved method in python classes. It serves the role of a \n",
    "constructor in object oriented terminology. This method is called when an \n",
    "object is created from a class and it allows the class to initialize the \n",
    "attributes of the class"
   ]
  },
  {
   "cell_type": "code",
   "execution_count": null,
   "id": "930bd8ff",
   "metadata": {},
   "outputs": [],
   "source": [
    "6. What is the process for creating a class instance?\n",
    "\n",
    "To create a class instance, we need to call the class by its name and pass \n",
    "the arguments to the class, which its init method accepts."
   ]
  },
  {
   "cell_type": "code",
   "execution_count": null,
   "id": "4c3a509f",
   "metadata": {},
   "outputs": [],
   "source": [
    "7. What is the process for creating a class?\n",
    "\n",
    "class keyword is used to created a class in python. \n",
    "The syntax to create a class in python is class <classname>:"
   ]
  },
  {
   "cell_type": "code",
   "execution_count": null,
   "id": "91b95d7d",
   "metadata": {},
   "outputs": [],
   "source": [
    "8. How would you define the superclasses of a class?\n",
    "\n",
    "Superclass/Parent class is given as a arugment to the child class"
   ]
  }
 ],
 "metadata": {
  "kernelspec": {
   "display_name": "Python 3 (ipykernel)",
   "language": "python",
   "name": "python3"
  },
  "language_info": {
   "codemirror_mode": {
    "name": "ipython",
    "version": 3
   },
   "file_extension": ".py",
   "mimetype": "text/x-python",
   "name": "python",
   "nbconvert_exporter": "python",
   "pygments_lexer": "ipython3",
   "version": "3.11.3"
  }
 },
 "nbformat": 4,
 "nbformat_minor": 5
}
