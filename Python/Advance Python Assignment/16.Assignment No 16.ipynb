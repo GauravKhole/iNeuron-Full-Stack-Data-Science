{
 "cells": [
  {
   "cell_type": "code",
   "execution_count": null,
   "id": "4ef95e3f",
   "metadata": {},
   "outputs": [],
   "source": [
    "Q1. What is the benefit of regular expressions?\n",
    "\n",
    "Regular Expressions, also known as regex or regexp, are used to match strings of text such \n",
    "as particular characters, words, or patterns of characters. It means that we can match and \n",
    "extract any string pattern from the text with the help of regular expressions. it helps the \n",
    "programmers to Write less and cleaner code. it also avoids multiple use of if/else statements."
   ]
  },
  {
   "cell_type": "code",
   "execution_count": null,
   "id": "c48121d5",
   "metadata": {},
   "outputs": [],
   "source": [
    "Q2. Describe the difference between the effects of \"(ab)c+\" and \"a(bc)+\" \n",
    "Which of these, if any, is the unqualified pattern \"abc+\"?\n",
    "\n",
    "Both (ab)c+ and a(bc)+ are valid patterns. the difference between both these patterns \n",
    "is in (ab)c+ ab is group whereas in a(bc)+ bc is a group."
   ]
  },
  {
   "cell_type": "code",
   "execution_count": null,
   "id": "35a9ca65",
   "metadata": {},
   "outputs": [],
   "source": [
    "Q3. How much do you need to use the following sentence while using regular expressions?\n",
    "\n",
    "import re statement always has to be imported before using regular expressions."
   ]
  },
  {
   "cell_type": "code",
   "execution_count": null,
   "id": "ebc91f2a",
   "metadata": {},
   "outputs": [],
   "source": [
    "Q4. Which characters have special significance in square brackets when expressing\n",
    "a range, and under what circumstances?\n",
    "\n",
    "The Characters .,*,?,^,or,(), have a special signiface when used with square brackets. \n",
    "They need not be be explicitly escaped by \\ as in case of pattern texts in a raw string."
   ]
  },
  {
   "cell_type": "code",
   "execution_count": null,
   "id": "869d61fb",
   "metadata": {},
   "outputs": [],
   "source": [
    "Q5. How does compiling a regular-expression object benefit you?\n",
    "\n",
    "We can Combine a regular expression pattern into pattern Objects.\n",
    "Which can be used for pattern matching. it also helps to search a pattern again without rewritting it."
   ]
  },
  {
   "cell_type": "code",
   "execution_count": null,
   "id": "efa464a9",
   "metadata": {},
   "outputs": [],
   "source": [
    "Q6. What are some examples of how to use the match object returned by re.match and re.search?\n",
    "\n",
    "The re.search() and re.match() both are functions of re module in python. \n",
    "These functions are very efficient and fast for searching in strings. \n",
    "The function searches for some substring in a string and returns a match object if found, \n",
    "else it returns none.\n",
    "\n",
    "There is a difference between the use of both functions. \n",
    "Both return the first match of a substring found in the string, but re.match() searches only \n",
    "from the beginning of the string and return match object if found. But if a match of substring \n",
    "is found somewhere in the middle of the string, it returns none.\n",
    "\n",
    "While re.search() searches for the whole string even if the string contains multi-lines and \n",
    "tries to find a match of the substring in all the lines of string"
   ]
  },
  {
   "cell_type": "code",
   "execution_count": null,
   "id": "72ddb3e5",
   "metadata": {},
   "outputs": [],
   "source": [
    "Q7. What is the difference between using a vertical bar (|) as an alteration and using square brackets as a character set?\n",
    "\n",
    "When | us used then patterns searches for or option. i.e <pattern_1>|<pattern_2> \n",
    "means it searches as <pattern_1>or<<pattern_2> in the searched string. the first \n",
    "occurance of matched string will be returned as the Match Object. Using Character \n",
    "set in square Brackets searches for all the character set in the square bracket and \n",
    "if match is found, it returns it."
   ]
  },
  {
   "cell_type": "code",
   "execution_count": null,
   "id": "0c2d60e1",
   "metadata": {},
   "outputs": [],
   "source": [
    "Q8. In regular-expression search patterns, why is it necessary to use the raw-string indicator (r)? In replacement strings?\n",
    "\n",
    " Raw Strings are used in the regular-expression search patterns, so that blackslashes donot have to be escaped."
   ]
  }
 ],
 "metadata": {
  "kernelspec": {
   "display_name": "Python 3 (ipykernel)",
   "language": "python",
   "name": "python3"
  },
  "language_info": {
   "codemirror_mode": {
    "name": "ipython",
    "version": 3
   },
   "file_extension": ".py",
   "mimetype": "text/x-python",
   "name": "python",
   "nbconvert_exporter": "python",
   "pygments_lexer": "ipython3",
   "version": "3.11.3"
  }
 },
 "nbformat": 4,
 "nbformat_minor": 5
}
