{
 "cells": [
  {
   "cell_type": "code",
   "execution_count": null,
   "id": "b096cc8d",
   "metadata": {},
   "outputs": [],
   "source": [
    "Q1. What are the two latest user-defined exception constraints in Python 3.X?\n",
    "\n",
    "raise and assert are the two latest user-defined exception constraints in Python 3.X"
   ]
  },
  {
   "cell_type": "code",
   "execution_count": null,
   "id": "f0b16b9c",
   "metadata": {},
   "outputs": [],
   "source": [
    "Q2. How are class-based exceptions that have been raised matched to handlers?\n",
    "\n",
    "In python, Users can define custom exceptions by creating a new class. This exception \n",
    "class has to be derived, either directly or indirectly from built-in Exception class. \n",
    "This new exception class like other exceptions can be raised using the raise statement \n",
    "with an optional error message."
   ]
  },
  {
   "cell_type": "code",
   "execution_count": null,
   "id": "25d80f18",
   "metadata": {},
   "outputs": [],
   "source": [
    "Q3. Describe two methods for attaching context information to exception artefacts ?\n",
    "\n",
    "The process() method of LoggerAdapter is where the contextual information is added to \n",
    "the logging output. its passes the message and keyword arguments of the logging call,\n",
    "and it passes back modified versions of these to use in the call to the underlying \n",
    "logger.\n",
    "\n",
    "Other method that can be used is exception(), Logs a messgae with level ERROR on \n",
    "this logger. The arguments are interpreted as for debug(). Exception info is added \n",
    "to the logging message."
   ]
  },
  {
   "cell_type": "code",
   "execution_count": null,
   "id": "cf2c40a7",
   "metadata": {},
   "outputs": [],
   "source": [
    "Q4. Describe two methods for specifying the text of an exception object's error message ?\n",
    "\n",
    "raise and assert are two methods for specifying the text of an exception object's error \n",
    "message.raise statement is used to trigger explicit exception, if certain condition is \n",
    "not as per requirement of programmer. it helps in triggering exception as per need of \n",
    "programmer and logic.\n",
    "\n",
    "There are few assertions that programmer always want to be True to avoid code failure\n",
    "This type of requirment is fullfilled by assert statement. This statement takes a \n",
    "Boolean Condition output of which if True, further program executes. if output of \n",
    "assert statement is False it raises an Assertion Error."
   ]
  },
  {
   "cell_type": "code",
   "execution_count": null,
   "id": "9d4e182e",
   "metadata": {},
   "outputs": [],
   "source": [
    "Q5. Why do you no longer use string-based exceptions?\n",
    "\n",
    " String-based Exceptions doesn't inherit from Exceptions. so plain exceptions catch all exceptions and not only system."
   ]
  }
 ],
 "metadata": {
  "kernelspec": {
   "display_name": "Python 3 (ipykernel)",
   "language": "python",
   "name": "python3"
  },
  "language_info": {
   "codemirror_mode": {
    "name": "ipython",
    "version": 3
   },
   "file_extension": ".py",
   "mimetype": "text/x-python",
   "name": "python",
   "nbconvert_exporter": "python",
   "pygments_lexer": "ipython3",
   "version": "3.11.3"
  }
 },
 "nbformat": 4,
 "nbformat_minor": 5
}
