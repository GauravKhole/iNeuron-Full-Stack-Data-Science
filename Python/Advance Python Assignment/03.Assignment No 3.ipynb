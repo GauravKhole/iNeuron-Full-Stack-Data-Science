{
 "cells": [
  {
   "cell_type": "code",
   "execution_count": null,
   "id": "178f2e06",
   "metadata": {},
   "outputs": [],
   "source": [
    "1. What is the concept of an abstract superclass?\n",
    "\n",
    "An abstract class/superclass can be considered as a blueprint for other classes.\n",
    "It allows you to create a set of methods that must be created within any child \n",
    "classes built from the abstract class. A class which contains one or more abstract \n",
    "methods is called an abstract class.\n",
    "\n",
    "Whereas an abstract method is a method that has a declaration but does not have\n",
    "an implementation"
   ]
  },
  {
   "cell_type": "code",
   "execution_count": null,
   "id": "aa3e6dd0",
   "metadata": {},
   "outputs": [],
   "source": [
    "2. What happens when a class statement's top level contains a basic assignment \n",
    "statement?\n",
    "\n",
    "When a Class statement's top level contains a basic assignment statement, \n",
    "its usually treated as a class attribute or class level variable.\n",
    "\n",
    "where as assignment statements inside methods are treated as instance attributes \n",
    "or local attributes.\n",
    "\n",
    "When an instance of a class is created a single copy of class attributes is \n",
    "maintained and shared to all instances of class. where as each instance object \n",
    "maintains its own copy of instance variables."
   ]
  },
  {
   "cell_type": "code",
   "execution_count": null,
   "id": "45294351",
   "metadata": {},
   "outputs": [],
   "source": [
    "3. Why does a class need to manually call a superclass's init method?\n",
    "\n",
    "if a child class has __init__ method, then it will not inherit the __init__ \n",
    "method of the parent class. in other words the __init__ method of the child \n",
    "class overrides the __init__ method of the parent class. so we have to \n",
    "manually call a parent superclass's __init__ using super() method"
   ]
  },
  {
   "cell_type": "code",
   "execution_count": null,
   "id": "64bb45ff",
   "metadata": {},
   "outputs": [],
   "source": [
    "4. How can you augment, instead of completely replacing, an inherited method?\n",
    "\n",
    "super() method can be used to augment, instead of completely replacing, an inherited method."
   ]
  },
  {
   "cell_type": "code",
   "execution_count": null,
   "id": "844003c7",
   "metadata": {},
   "outputs": [],
   "source": [
    "5. How is the local scope of a class different from that of a function?\n",
    "\n",
    "A Variable which is defined inside a function is local to that function. \n",
    "it is accesible from the point at which it is defined until the end of the \n",
    "function, and exists for as long as the function is existing.\n",
    "\n",
    "Similary a variable inside of a class also has a local variable scope. \n",
    "Variables which are defined in the class body (but outside all methods) are \n",
    "called as class level variables or class attributes. they can be referenced \n",
    "by there bare names within the same scope, but they can also be accessed from \n",
    "outside this scope if we use the attribute access operator (.). on a class or \n",
    "an instance of the class."
   ]
  }
 ],
 "metadata": {
  "kernelspec": {
   "display_name": "Python 3 (ipykernel)",
   "language": "python",
   "name": "python3"
  },
  "language_info": {
   "codemirror_mode": {
    "name": "ipython",
    "version": 3
   },
   "file_extension": ".py",
   "mimetype": "text/x-python",
   "name": "python",
   "nbconvert_exporter": "python",
   "pygments_lexer": "ipython3",
   "version": "3.11.3"
  }
 },
 "nbformat": 4,
 "nbformat_minor": 5
}
