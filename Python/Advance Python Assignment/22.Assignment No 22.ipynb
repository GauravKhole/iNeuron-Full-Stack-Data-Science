{
 "cells": [
  {
   "cell_type": "code",
   "execution_count": null,
   "id": "82bd2111",
   "metadata": {},
   "outputs": [],
   "source": [
    "Q1. What are the benefits of the built-in array package, if any?\n",
    "\n",
    "Arrays represent multiple data items of the same type using a single name. \n",
    "In arrays, the elements can be accessed randomly by using the index number. \n",
    "Arrays allocate memory in contiguous memory locations for all its elements. \n",
    "Hence there is no chance of extra memory being allocated in case of arrays. \n",
    "This avoids memory overflow or shortage of memory in arrays."
   ]
  },
  {
   "cell_type": "code",
   "execution_count": null,
   "id": "95aa61e8",
   "metadata": {},
   "outputs": [],
   "source": [
    "Q2. What are some of the array package's limitations ?\n",
    "\n",
    "The number of elements to be stored in an array should be known in advance. \n",
    "An array is a static structure (which means the array is of fixed size). \n",
    "Once declared the size of the array cannot be modified. \n",
    "The memory which is allocated to it cannot be increased or decreased.\n",
    "Insertion and deletion are quite difficult in an array as the elements are stored \n",
    "in consecutive memory locations and the shifting operation is costly.\n",
    "Allocating more memory than the requirement leads to wastage of memory space and \n",
    "less allocation of memory also leads to a problem."
   ]
  },
  {
   "cell_type": "code",
   "execution_count": null,
   "id": "ff500e93",
   "metadata": {},
   "outputs": [],
   "source": [
    "Q3. Describe the main differences between the array and numpy packages ?\n",
    "\n",
    "The array package doesn't provide any help with numerical calculation with the \n",
    "items insdie it in number form while NumPy give you a wide variety of numerical operations.\n",
    "An array is a single dimensional entity which hold the numerical data, while numpy can have \n",
    "more than 1 dimension.\n",
    "In case of array, item can be accessed by its index position and it is easy task while in numpy \n",
    "item is accessed by its column and row index, which makes it slightly time taking. \n",
    "Same goes with appending operation.\n",
    "In case of array we do not form a tabular structure, while in numpy it forms a tabular structure."
   ]
  },
  {
   "cell_type": "code",
   "execution_count": null,
   "id": "08892bec",
   "metadata": {},
   "outputs": [],
   "source": [
    "Q4. Explain the distinctions between the empty, ones, and zeros functions ?\n",
    "\n",
    "The distinctions between the empty, ones, and zero functions are as follows :\n",
    "\n",
    "Empty function: An empty function is a function that does not contain any statement within its body.\n",
    "If you try to write a function definition without any statement in python ,it will return an error. \n",
    "To avoid this, we use pass statement. \n",
    "pass is a special statement in Python that does nothing. \n",
    "It only works as a dummy statement.\n",
    "Ones: This function returns a new array of given shape and data type, where the element’s value is 1.\n",
    "Zeros: This function returns a new array of given shape and data type, where the element’s value is 0."
   ]
  },
  {
   "cell_type": "code",
   "execution_count": null,
   "id": "6518853e",
   "metadata": {},
   "outputs": [],
   "source": [
    "Q5. In the fromfunction function, which is used to construct new arrays, \n",
    "what is the role of the callable argument ?\n",
    "\n",
    "Its function is to execute the function over each coordinate and the resulting array. \n",
    "The function is called with N parameters, where N is the rank of shape. \n",
    "Each parameter represents the coordinates of the array varying along a specific axis."
   ]
  },
  {
   "cell_type": "code",
   "execution_count": null,
   "id": "7e5876d5",
   "metadata": {},
   "outputs": [],
   "source": [
    "Q6. What happens when a numpy array is combined with a single-value operand (a scalar, \n",
    "such as an int or a floating-point value) through addition, as in the expression A + n ?\n",
    "\n",
    "If any scaler value such as integer is added to the numpy array then all the elements inside \n",
    "the array will add that value in it."
   ]
  },
  {
   "cell_type": "code",
   "execution_count": null,
   "id": "32606e41",
   "metadata": {},
   "outputs": [],
   "source": [
    "Q7. Can array-to-scalar operations use combined operation-assign operators \n",
    "(such as += or *=)? What is the outcome ?\n",
    "\n",
    "It will carry out provided operation on all elements of array."
   ]
  },
  {
   "cell_type": "code",
   "execution_count": null,
   "id": "d1b142a2",
   "metadata": {},
   "outputs": [],
   "source": [
    "Q8. Does a numpy array contain fixed-length strings? \n",
    "What happens if you allocate a longer string to one of these arrays ?\n",
    "\n",
    "Yes, it is possible that we can include a string of fixed length in numpy array. \n",
    "The dtype of any numpy array containing string values is the maximum length of any \n",
    "string present in the array.Once set, it will only be able to store new string having\n",
    "length not more than the maximum length at the time of the creation. If we try to reassign \n",
    "some another string value having length greater than the maximum length of the existing elements, \n",
    "it simply discards all the values beyond the maximum length accept upto those values which are under the limit."
   ]
  },
  {
   "cell_type": "code",
   "execution_count": null,
   "id": "03503fc6",
   "metadata": {},
   "outputs": [],
   "source": [
    "Q9. What happens when you combine two numpy arrays using an operation like addition (+) or multiplication (*)? \n",
    "What are the conditions for combining two numpy arrays ?\n",
    "\n",
    "It will simply add or multiply element to element at same position."
   ]
  },
  {
   "cell_type": "code",
   "execution_count": null,
   "id": "1ed3deee",
   "metadata": {},
   "outputs": [],
   "source": [
    "Q10. What is the best way to use a Boolean array to mask another array ?\n",
    "\n",
    "The best way to use a Boolean array to mask another array is by Using masked_where of numpy package"
   ]
  },
  {
   "cell_type": "code",
   "execution_count": null,
   "id": "c163f549",
   "metadata": {},
   "outputs": [],
   "source": [
    "Q11. What are three different ways to get the standard deviation of a wide collection of \n",
    "data using both standard Python and its packages? Sort the three of them by how quickly they execute ?\n",
    "\n",
    "np.std and math package can be used individually."
   ]
  },
  {
   "cell_type": "code",
   "execution_count": null,
   "id": "d54d4bd5",
   "metadata": {},
   "outputs": [],
   "source": [
    "12. What is the dimensionality of a Boolean mask-generated array ?\n",
    "\n",
    "It will have same dimensionality as input array."
   ]
  }
 ],
 "metadata": {
  "kernelspec": {
   "display_name": "Python 3 (ipykernel)",
   "language": "python",
   "name": "python3"
  },
  "language_info": {
   "codemirror_mode": {
    "name": "ipython",
    "version": 3
   },
   "file_extension": ".py",
   "mimetype": "text/x-python",
   "name": "python",
   "nbconvert_exporter": "python",
   "pygments_lexer": "ipython3",
   "version": "3.11.3"
  }
 },
 "nbformat": 4,
 "nbformat_minor": 5
}
