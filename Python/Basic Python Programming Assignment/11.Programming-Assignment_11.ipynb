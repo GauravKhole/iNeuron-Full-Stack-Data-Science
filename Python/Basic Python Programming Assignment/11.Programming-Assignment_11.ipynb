{
 "cells": [
  {
   "cell_type": "code",
   "execution_count": null,
   "id": "468ab2c5",
   "metadata": {},
   "outputs": [],
   "source": [
    "1. Write a Python program to find words which are greater than given length k ?"
   ]
  },
  {
   "cell_type": "code",
   "execution_count": 2,
   "id": "18da747b",
   "metadata": {},
   "outputs": [
    {
     "name": "stdout",
     "output_type": "stream",
     "text": [
      "['Hello', 'Gaurav', 'Khole', 'Ineuron']\n"
     ]
    }
   ],
   "source": [
    "S = \"Hello this is Gaurav Khole from Ineuron\"\n",
    "K = 4\n",
    "s = S.split(\" \")\n",
    "l = list(filter(lambda x: (len(x) > K), s))\n",
    " \n",
    "print(l)"
   ]
  },
  {
   "cell_type": "code",
   "execution_count": null,
   "id": "a4299c10",
   "metadata": {},
   "outputs": [],
   "source": [
    "2. Write a Python program for removing i-th character from a string ?"
   ]
  },
  {
   "cell_type": "code",
   "execution_count": 3,
   "id": "05e938c1",
   "metadata": {},
   "outputs": [
    {
     "name": "stdout",
     "output_type": "stream",
     "text": [
      "Enter the String: Gaurav\n",
      "Enter the ith Character: 4\n",
      "Gaurv\n"
     ]
    }
   ],
   "source": [
    "def removeCharacter():\n",
    "    in_string = input(\"Enter the String: \")\n",
    "    in_char_num = int(input(\"Enter the ith Character: \"))\n",
    "    out_string = ''\n",
    "    for ele in range(len(in_string)):\n",
    "        if ele != in_char_num:\n",
    "            out_string = out_string + in_string[ele]\n",
    "    print(out_string)\n",
    "    \n",
    "removeCharacter()"
   ]
  },
  {
   "cell_type": "code",
   "execution_count": null,
   "id": "522beb4a",
   "metadata": {},
   "outputs": [],
   "source": [
    "3. Write a Python program to split and join a string ?"
   ]
  },
  {
   "cell_type": "code",
   "execution_count": 4,
   "id": "64f5669f",
   "metadata": {},
   "outputs": [
    {
     "name": "stdout",
     "output_type": "stream",
     "text": [
      "Enter the string: My name is Gaurav Khole from Ineuron\n",
      "Split String: ['My', 'name', 'is', 'Gaurav', 'Khole', 'from', 'Ineuron']\n",
      "Join String: My name is Gaurav Khole from Ineuron\n"
     ]
    }
   ],
   "source": [
    "def splitJoinString():\n",
    "    in_string = input('Enter the string: ')\n",
    "    print(f\"Split String: {in_string.split(' ')}\")\n",
    "    print(f\"Join String: {' '.join(in_string.split(' '))}\")\n",
    "\n",
    "splitJoinString()"
   ]
  },
  {
   "cell_type": "code",
   "execution_count": null,
   "id": "68cbd418",
   "metadata": {},
   "outputs": [],
   "source": [
    "4. Write a Python to check if a given string is binary string or not ?"
   ]
  },
  {
   "cell_type": "code",
   "execution_count": 5,
   "id": "7852246b",
   "metadata": {},
   "outputs": [
    {
     "name": "stdout",
     "output_type": "stream",
     "text": [
      "Yes\n"
     ]
    }
   ],
   "source": [
    "import re\n",
    " \n",
    "sampleInput = \"1001010\"\n",
    "c = re.compile('[^01]')\n",
    "if(len(c.findall(sampleInput))):\n",
    "    print(\"No\") \n",
    "else:\n",
    "    print(\"Yes\")"
   ]
  },
  {
   "cell_type": "code",
   "execution_count": null,
   "id": "efddd615",
   "metadata": {},
   "outputs": [],
   "source": [
    "5. Write a Python program to find uncommon words from two Strings ?"
   ]
  },
  {
   "cell_type": "code",
   "execution_count": 7,
   "id": "be8f99c8",
   "metadata": {},
   "outputs": [
    {
     "name": "stdout",
     "output_type": "stream",
     "text": [
      "['are', 'you', 'was', 'your', 'day']\n"
     ]
    }
   ],
   "source": [
    "def uncommon_words(s1, s2):\n",
    "    count = {}\n",
    "    for word in s1.split():\n",
    "        count[word] = count.get(word, 0) + 1\n",
    "    for word in s2.split():\n",
    "        count[word] = count.get(word, 0) + 1\n",
    "    return [word for word in count if count[word] == 1]\n",
    "\n",
    "s1=\"Hello how are you\"\n",
    "s2=\"Hello how was your day\"\n",
    "\n",
    "print(uncommon_words(s1, s2))"
   ]
  },
  {
   "cell_type": "code",
   "execution_count": null,
   "id": "6ba897e1",
   "metadata": {},
   "outputs": [],
   "source": [
    "6. Write a Python to find all duplicate characters in string ?"
   ]
  },
  {
   "cell_type": "code",
   "execution_count": 8,
   "id": "511a0052",
   "metadata": {},
   "outputs": [
    {
     "name": "stdout",
     "output_type": "stream",
     "text": [
      "Enter the string: Full stack data science bootcamp\n",
      "Duplicate characters are: ['t', 'l', 'c', ' ', 'o', 'e', 'a', 's']\n"
     ]
    }
   ],
   "source": [
    "def duplicateChars():\n",
    "    in_string = input('Enter the string: ')\n",
    "    non_duplicate_list = []\n",
    "    duplicate_list = []\n",
    "    for ele in in_string:\n",
    "        if ele not in non_duplicate_list:\n",
    "            non_duplicate_list.append(ele)\n",
    "        else:\n",
    "            duplicate_list.append(ele)\n",
    "    print(f'Duplicate characters are: {list(set(duplicate_list))}')\n",
    "        \n",
    "duplicateChars()"
   ]
  },
  {
   "cell_type": "code",
   "execution_count": null,
   "id": "6c13953b",
   "metadata": {},
   "outputs": [],
   "source": [
    "7. Write a Python Program to check if a string contains any special character?"
   ]
  },
  {
   "cell_type": "code",
   "execution_count": 10,
   "id": "18765a32",
   "metadata": {},
   "outputs": [
    {
     "name": "stdout",
     "output_type": "stream",
     "text": [
      "The string contains special characters.\n"
     ]
    }
   ],
   "source": [
    "def has_special_char(s):\n",
    "    for c in s:\n",
    "        if not (c.isalpha() or c.isdigit() or c == ' '):\n",
    "            return True\n",
    "    return False\n",
    " \n",
    "s = \"Gaurav@Khole\"\n",
    "if has_special_char(s):\n",
    "    print(\"The string contains special characters.\")\n",
    "else:\n",
    "    print(\"The string does not contain special characters.\")"
   ]
  }
 ],
 "metadata": {
  "kernelspec": {
   "display_name": "Python 3 (ipykernel)",
   "language": "python",
   "name": "python3"
  },
  "language_info": {
   "codemirror_mode": {
    "name": "ipython",
    "version": 3
   },
   "file_extension": ".py",
   "mimetype": "text/x-python",
   "name": "python",
   "nbconvert_exporter": "python",
   "pygments_lexer": "ipython3",
   "version": "3.11.3"
  }
 },
 "nbformat": 4,
 "nbformat_minor": 5
}
