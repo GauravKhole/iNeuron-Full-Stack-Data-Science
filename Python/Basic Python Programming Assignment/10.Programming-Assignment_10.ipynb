{
 "cells": [
  {
   "cell_type": "code",
   "execution_count": null,
   "id": "ea163128",
   "metadata": {},
   "outputs": [],
   "source": [
    "1.Write a Python Program to find sum of elements in a list ?"
   ]
  },
  {
   "cell_type": "code",
   "execution_count": 2,
   "id": "ed42467f",
   "metadata": {},
   "outputs": [
    {
     "name": "stdout",
     "output_type": "stream",
     "text": [
      "Sum of List:  61\n"
     ]
    }
   ],
   "source": [
    "numlist = [2,4,2,5,7,9,23,4,5]\n",
    "numsum = sum(numlist)\n",
    "print('Sum of List: ',numsum)"
   ]
  },
  {
   "cell_type": "code",
   "execution_count": null,
   "id": "32bbabe9",
   "metadata": {},
   "outputs": [],
   "source": [
    "2.Write a Python Program to multiply all numbers in the list ?"
   ]
  },
  {
   "cell_type": "code",
   "execution_count": 3,
   "id": "25ca1ce3",
   "metadata": {},
   "outputs": [
    {
     "name": "stdout",
     "output_type": "stream",
     "text": [
      "Enter the No of Entries in a List: 7\n",
      "Enter a element: 4\n",
      "Enter a element: 7\n",
      "Enter a element: 2\n",
      "Enter a element: 6\n",
      "Enter a element: 2\n",
      "Enter a element: 8\n",
      "Enter a element: 3\n",
      "16128\n"
     ]
    }
   ],
   "source": [
    "def mulofList():\n",
    "    in_ele = int(input('Enter the No of Entries in a List: '))\n",
    "    in_list = []\n",
    "    mul = 1\n",
    "    for itr in range(in_ele):\n",
    "        in_list.append(int(input('Enter a element: ')))\n",
    "    for ele in in_list:\n",
    "        mul = mul * ele\n",
    "    print(mul)\n",
    "\n",
    "mulofList()"
   ]
  },
  {
   "cell_type": "code",
   "execution_count": null,
   "id": "ca4cad65",
   "metadata": {},
   "outputs": [],
   "source": [
    "3.Write a Python Program to find smallest number in the list ?"
   ]
  },
  {
   "cell_type": "code",
   "execution_count": 4,
   "id": "d9648148",
   "metadata": {},
   "outputs": [
    {
     "name": "stdout",
     "output_type": "stream",
     "text": [
      "Smallest element is: 13\n"
     ]
    }
   ],
   "source": [
    "list1 = [16,13,76,34,23]\n",
    "list1.sort()\n",
    "print(\"Smallest element is:\", list1[0])"
   ]
  },
  {
   "cell_type": "code",
   "execution_count": null,
   "id": "a7d8da2a",
   "metadata": {},
   "outputs": [],
   "source": [
    "4.Write a Python Program to find largest number in the list ?"
   ]
  },
  {
   "cell_type": "code",
   "execution_count": 5,
   "id": "9dda71e7",
   "metadata": {},
   "outputs": [
    {
     "name": "stdout",
     "output_type": "stream",
     "text": [
      "Enter the No of elements in a list: 5\n",
      "Enter a Element: 2\n",
      "Enter a Element: 64\n",
      "Enter a Element: 2\n",
      "Enter a Element: 54\n",
      "Enter a Element: 43\n",
      "The Largest Element in [2, 64, 2, 54, 43] is 64\n"
     ]
    }
   ],
   "source": [
    "def largestEleInList():\n",
    "    in_ele = int(input('Enter the No of elements in a list: '))\n",
    "    in_list = []\n",
    "    for ele in range(in_ele):\n",
    "        in_list.append(int(input('Enter a Element: ')))\n",
    "    print(f'The Largest Element in {in_list} is {sorted(in_list, reverse=True)[0]}')\n",
    "\n",
    "largestEleInList()"
   ]
  },
  {
   "cell_type": "code",
   "execution_count": null,
   "id": "d9e94207",
   "metadata": {},
   "outputs": [],
   "source": [
    "5.Write a Python Program to find second largest number in the list ?"
   ]
  },
  {
   "cell_type": "code",
   "execution_count": 9,
   "id": "2870b3be",
   "metadata": {},
   "outputs": [
    {
     "name": "stdout",
     "output_type": "stream",
     "text": [
      "Second highest number is :  54\n"
     ]
    }
   ],
   "source": [
    "list1 = [19,45,54,24,74]\n",
    " \n",
    "mx = max(list1[0], list1[1])\n",
    "secondmax = min(list1[0], list1[1])\n",
    "n = len(list1)\n",
    "for i in range(2,n):\n",
    "    if list1[i] > mx:\n",
    "        secondmax = mx\n",
    "        mx = list1[i]\n",
    "    elif list1[i] > secondmax and \\\n",
    "        mx != list1[i]:\n",
    "        secondmax = list1[i]\n",
    "    elif mx == secondmax and \\\n",
    "        secondmax != list1[i]:\n",
    "          secondmax = list1[i]\n",
    "            \n",
    "print(\"Second highest number is : \",\\\n",
    "      str(secondmax))"
   ]
  },
  {
   "cell_type": "code",
   "execution_count": null,
   "id": "55f1f481",
   "metadata": {},
   "outputs": [],
   "source": [
    "6.Write a Python Program to find N largest elements in the list ?"
   ]
  },
  {
   "cell_type": "code",
   "execution_count": 11,
   "id": "0483dd0e",
   "metadata": {},
   "outputs": [
    {
     "name": "stdout",
     "output_type": "stream",
     "text": [
      "Enter the No of elements in a list: 5\n",
      "Enter a Element: 2\n",
      "Enter a Element: 54\n",
      "Enter a Element: 23\n",
      "Enter a Element: 65\n",
      "Enter a Element: 23\n",
      "The 4 Largest Element in [2, 54, 23, 65, 23] is [65, 54, 23, 23]\n"
     ]
    }
   ],
   "source": [
    "def nLargestEleInList(k):\n",
    "    in_ele = int(input('Enter the No of elements in a list: '))\n",
    "    in_list = []\n",
    "    for ele in range(in_ele):\n",
    "        in_list.append(int(input('Enter a Element: ')))\n",
    "    print(f'The {k} Largest Element in {in_list} is {sorted(in_list, reverse=True)[0:k]}')\n",
    "\n",
    "nLargestEleInList(4)"
   ]
  },
  {
   "cell_type": "code",
   "execution_count": null,
   "id": "8e3a3cd2",
   "metadata": {},
   "outputs": [],
   "source": [
    "7.Write a Python Program to find even numbers in the list ?"
   ]
  },
  {
   "cell_type": "code",
   "execution_count": 13,
   "id": "0e24cec2",
   "metadata": {},
   "outputs": [
    {
     "name": "stdout",
     "output_type": "stream",
     "text": [
      "Enter the start of range: 1\n",
      "Enter the end of range: 10\n",
      "2 4 6 8 10 "
     ]
    }
   ],
   "source": [
    "start = int(input(\"Enter the start of range: \"))\n",
    "end = int(input(\"Enter the end of range: \"))\n",
    " \n",
    "for num in range(start, end + 1):\n",
    "    if num % 2 == 0:\n",
    "        print(num, end=\" \")"
   ]
  },
  {
   "cell_type": "code",
   "execution_count": null,
   "id": "f4d0e5c3",
   "metadata": {},
   "outputs": [],
   "source": [
    "8.Write a Python Program to find odd numbers in the list ?"
   ]
  },
  {
   "cell_type": "code",
   "execution_count": 14,
   "id": "64d5ace4",
   "metadata": {},
   "outputs": [
    {
     "name": "stdout",
     "output_type": "stream",
     "text": [
      "23 57 "
     ]
    }
   ],
   "source": [
    "list1 = [14,64,56,23,57,24]\n",
    "i = 0\n",
    "while(i < len(list1)):\n",
    "    if list1[i] % 2 != 0:\n",
    "        print(list1[i], end=\" \")\n",
    "    i += 1"
   ]
  },
  {
   "cell_type": "code",
   "execution_count": null,
   "id": "27ac26d0",
   "metadata": {},
   "outputs": [],
   "source": [
    "9.Write a Python Program to remove empty list from list ?"
   ]
  },
  {
   "cell_type": "code",
   "execution_count": 17,
   "id": "ce2e5ec2",
   "metadata": {},
   "outputs": [
    {
     "name": "stdout",
     "output_type": "stream",
     "text": [
      "Enter all elements of the list: [1,33,5,6,7,3,[2,5,7,8,3,6],24]\n",
      "There is no [] List in the list [1, 33, 5, 6, 7, 3, [2, 5, 7, 8, 3, 6], 24]\n"
     ]
    }
   ],
   "source": [
    "def checkEmptyList():\n",
    "    in_list = eval(input('Enter all elements of the list: '))\n",
    "    if [] in in_list:\n",
    "        print(f'There is an Empty list in {in_list} at Position {in_list.index([])}')\n",
    "        in_list.remove([])\n",
    "        print(f'The List after removing [] is {in_list}')\n",
    "    else:\n",
    "        print(f'There is no [] List in the list {in_list}')\n",
    "        \n",
    "checkEmptyList()"
   ]
  },
  {
   "cell_type": "code",
   "execution_count": null,
   "id": "d032b0dd",
   "metadata": {},
   "outputs": [],
   "source": [
    "10.Write a Python Program to Cloning or Copying a list ?"
   ]
  },
  {
   "cell_type": "code",
   "execution_count": 19,
   "id": "4ca22cee",
   "metadata": {},
   "outputs": [
    {
     "name": "stdout",
     "output_type": "stream",
     "text": [
      "Original List: [4, 8, 2, 10, 15, 18]\n",
      "After Cloning: [4, 8, 2, 10, 15, 18]\n"
     ]
    }
   ],
   "source": [
    "def Cloning(li1):\n",
    "    li_copy = li1[:]\n",
    "    return li_copy\n",
    " \n",
    "li1 = [4, 8, 2, 10, 15, 18]\n",
    "li2 = Cloning(li1)\n",
    "print(\"Original List:\", li1)\n",
    "print(\"After Cloning:\", li2)"
   ]
  },
  {
   "cell_type": "code",
   "execution_count": null,
   "id": "5177bd94",
   "metadata": {},
   "outputs": [],
   "source": [
    "11.Write a Python Program to count occurences of an element in a list ?"
   ]
  },
  {
   "cell_type": "code",
   "execution_count": 20,
   "id": "8257b819",
   "metadata": {},
   "outputs": [
    {
     "name": "stdout",
     "output_type": "stream",
     "text": [
      "Enter the elements of the list: 1,2,4,6,7,8,4,3,6\n",
      "Enter the element to find: 7\n",
      "There are 1 occurences of 7 in (1, 2, 4, 6, 7, 8, 4, 3, 6)\n"
     ]
    }
   ],
   "source": [
    "def checkOccurence():\n",
    "    in_list = eval(input('Enter the elements of the list: '))\n",
    "    in_num = eval(input('Enter the element to find: '))\n",
    "    count = 0\n",
    "    if in_num in in_list:\n",
    "        for ele in in_list:\n",
    "            if ele == in_num:\n",
    "                count = count+1\n",
    "    print(f'There are {count} occurences of {in_num} in {in_list}')\n",
    "    \n",
    "checkOccurence()"
   ]
  }
 ],
 "metadata": {
  "kernelspec": {
   "display_name": "Python 3 (ipykernel)",
   "language": "python",
   "name": "python3"
  },
  "language_info": {
   "codemirror_mode": {
    "name": "ipython",
    "version": 3
   },
   "file_extension": ".py",
   "mimetype": "text/x-python",
   "name": "python",
   "nbconvert_exporter": "python",
   "pygments_lexer": "ipython3",
   "version": "3.11.3"
  }
 },
 "nbformat": 4,
 "nbformat_minor": 5
}
