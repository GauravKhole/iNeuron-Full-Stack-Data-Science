{
 "cells": [
  {
   "cell_type": "code",
   "execution_count": null,
   "id": "a789b104",
   "metadata": {},
   "outputs": [],
   "source": [
    "1.Write a Python Program to check if the given number is a Disarium Number ?"
   ]
  },
  {
   "cell_type": "code",
   "execution_count": 1,
   "id": "86841d92",
   "metadata": {},
   "outputs": [
    {
     "name": "stdout",
     "output_type": "stream",
     "text": [
      "175 is a disarium number\n"
     ]
    }
   ],
   "source": [
    "def calculateLength(n):    \n",
    "    length = 0;    \n",
    "    while(n != 0):    \n",
    "        length = length + 1;    \n",
    "        n = n//10;    \n",
    "    return length;    \n",
    "     \n",
    "num = 175;    \n",
    "rem = sum = 0;    \n",
    "len = calculateLength(num);    \n",
    "n = num;    \n",
    "while(num > 0):    \n",
    "    rem = num%10;    \n",
    "    sum = sum + int(rem**len);    \n",
    "    num = num//10;    \n",
    "    len = len - 1;    \n",
    "if(sum == n):    \n",
    "    print(str(n) + \" is a disarium number\");    \n",
    "else:    \n",
    "    print(str(n) + \" is not a disarium number\");   "
   ]
  },
  {
   "cell_type": "code",
   "execution_count": null,
   "id": "27ec1352",
   "metadata": {},
   "outputs": [],
   "source": [
    "2.Write a Python Program to print all Disarium numbers between 1 to 100 ?"
   ]
  },
  {
   "cell_type": "code",
   "execution_count": 4,
   "id": "1ccf9bd1",
   "metadata": {},
   "outputs": [
    {
     "name": "stdout",
     "output_type": "stream",
     "text": [
      "Disarium numbers between 1 and 100 are\n",
      "1\n",
      "2\n",
      "3\n",
      "4\n",
      "5\n",
      "6\n",
      "7\n",
      "8\n",
      "9\n",
      "89\n"
     ]
    }
   ],
   "source": [
    "def calculateLength(n):    \n",
    "    length = 0;    \n",
    "    while(n != 0):    \n",
    "        length = length + 1;    \n",
    "        n = n//10;    \n",
    "    return length;    \n",
    "def sumOfDigits(num):    \n",
    "    rem = sum = 0;    \n",
    "    len = calculateLength(num);    \n",
    "        \n",
    "    while(num > 0):    \n",
    "        rem = num%10;    \n",
    "        sum = sum + (rem**len);    \n",
    "        num = num//10;    \n",
    "        len = len - 1;    \n",
    "    return sum;    \n",
    "      \n",
    "result = 0;    \n",
    "print(\"Disarium numbers between 1 and 100 are\");    \n",
    "for i in range(1, 101):    \n",
    "    result = sumOfDigits(i);    \n",
    "        \n",
    "    if(result == i):    \n",
    "        print(i), "
   ]
  },
  {
   "cell_type": "code",
   "execution_count": null,
   "id": "f5890523",
   "metadata": {},
   "outputs": [],
   "source": [
    "3.Write a Python Program to check if the given number is Happy Number ?"
   ]
  },
  {
   "cell_type": "code",
   "execution_count": 1,
   "id": "eecad8e2",
   "metadata": {},
   "outputs": [
    {
     "name": "stdout",
     "output_type": "stream",
     "text": [
      "True\n",
      "True\n",
      "False\n"
     ]
    }
   ],
   "source": [
    "def is_Happy_num(n):\n",
    "    past = set()\n",
    "    while n != 1:\n",
    "        n = sum(int(i)**2 for i in str(n))\n",
    "        if n in past:\n",
    "            return False\n",
    "        past.add(n)\n",
    "    return True\n",
    "print(is_Happy_num(7))\n",
    "print(is_Happy_num(932))\n",
    "print(is_Happy_num(6))\n"
   ]
  },
  {
   "cell_type": "code",
   "execution_count": null,
   "id": "627b02d1",
   "metadata": {},
   "outputs": [],
   "source": [
    "4.Write a Python Program to print all Happy numbers between 1 and 100 ?"
   ]
  },
  {
   "cell_type": "code",
   "execution_count": 2,
   "id": "b803fb4b",
   "metadata": {},
   "outputs": [
    {
     "name": "stdout",
     "output_type": "stream",
     "text": [
      "The Happy Numbers between 0 and 100 are [1, 7, 10, 13, 19, 23, 28, 31, 32, 44, 49, 68, 70, 79, 82, 86, 91, 94, 97, 100]\n"
     ]
    }
   ],
   "source": [
    "def checkHappyNumber(start=0,end=100):\n",
    "    happyNumbersList = []\n",
    "    for in_num in range(start,end+1):\n",
    "        in_num = str(in_num)\n",
    "        inum_holder = in_num\n",
    "        trackNumber = set()   \n",
    "        while True:\n",
    "            if in_num != '1' and str(in_num) not in trackNumber:\n",
    "                trackNumber.add(in_num)\n",
    "                sum = 0\n",
    "                for ele in range(len((in_num))):\n",
    "                    sum = sum + int(in_num[ele])**2\n",
    "                in_num = str(sum)\n",
    "            elif str(in_num) in trackNumber:\n",
    "                break\n",
    "            else:\n",
    "                happyNumbersList.append(int(inum_holder))\n",
    "                break\n",
    "    print(f'The Happy Numbers between {start} and {end} are {happyNumbersList}')\n",
    "    \n",
    "checkHappyNumber(0,100)"
   ]
  },
  {
   "cell_type": "code",
   "execution_count": null,
   "id": "4ac4ca53",
   "metadata": {},
   "outputs": [],
   "source": [
    "5.Write a Python Program to determine whether the given number is a Harshad Number ?"
   ]
  },
  {
   "cell_type": "code",
   "execution_count": 3,
   "id": "0fd8c3e6",
   "metadata": {},
   "outputs": [
    {
     "name": "stdout",
     "output_type": "stream",
     "text": [
      "136 is not a harshad number\n"
     ]
    }
   ],
   "source": [
    "num = 136;    \n",
    "rem = sum = 0;    \n",
    "     \n",
    "n = num;    \n",
    "while(num > 0):    \n",
    "    rem = num%10;    \n",
    "    sum = sum + rem;    \n",
    "    num = num//10;    \n",
    "if(n%sum == 0):    \n",
    "    print(str(n) + \" is a harshad number\");    \n",
    "else:    \n",
    "    print(str(n) + \" is not a harshad number\");    "
   ]
  },
  {
   "cell_type": "code",
   "execution_count": null,
   "id": "12ed42a3",
   "metadata": {},
   "outputs": [],
   "source": [
    "6.Write a Python Program to print all pronic numbers between 1 and 100 ?"
   ]
  },
  {
   "cell_type": "code",
   "execution_count": 4,
   "id": "31e88d80",
   "metadata": {},
   "outputs": [
    {
     "name": "stdout",
     "output_type": "stream",
     "text": [
      "[0, 2, 6, 12, 20, 30, 42, 56, 72, 90, 110, 132, 156, 182, 210, 240, 272, 306, 342, 380, 420, 462, 506, 552, 600, 650, 702, 756, 812, 870, 930, 992, 1056, 1122, 1190, 1260, 1332, 1406, 1482, 1560, 1640, 1722, 1806, 1892, 1980, 2070, 2162, 2256, 2352, 2450, 2550, 2652, 2756, 2862, 2970, 3080, 3192, 3306, 3422, 3540, 3660, 3782, 3906, 4032, 4160, 4290, 4422, 4556, 4692, 4830, 4970, 5112, 5256, 5402, 5550, 5700, 5852, 6006, 6162, 6320, 6480, 6642, 6806, 6972, 7140, 7310, 7482, 7656, 7832, 8010, 8190, 8372, 8556, 8742, 8930, 9120, 9312, 9506, 9702, 9900, 10100]\n"
     ]
    }
   ],
   "source": [
    "def printPronicNumbers(start=0,end=100):\n",
    "    outputList = []\n",
    "    for ele in range(start,end+1):\n",
    "        outputList.append((ele)*(ele+1))\n",
    "    print(outputList)\n",
    "                   \n",
    "printPronicNumbers()"
   ]
  }
 ],
 "metadata": {
  "kernelspec": {
   "display_name": "Python 3 (ipykernel)",
   "language": "python",
   "name": "python3"
  },
  "language_info": {
   "codemirror_mode": {
    "name": "ipython",
    "version": 3
   },
   "file_extension": ".py",
   "mimetype": "text/x-python",
   "name": "python",
   "nbconvert_exporter": "python",
   "pygments_lexer": "ipython3",
   "version": "3.11.3"
  }
 },
 "nbformat": 4,
 "nbformat_minor": 5
}
