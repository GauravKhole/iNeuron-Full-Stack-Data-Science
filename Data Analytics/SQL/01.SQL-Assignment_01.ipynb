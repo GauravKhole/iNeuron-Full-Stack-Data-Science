{
 "cells": [
  {
   "cell_type": "markdown",
   "id": "1023b5b3",
   "metadata": {},
   "source": [
    "# SQL Assignment 1"
   ]
  },
  {
   "cell_type": "markdown",
   "id": "f74e563b",
   "metadata": {},
   "source": [
    "1.Explain different types of views. Demonstrate with suitable examples."
   ]
  },
  {
   "cell_type": "markdown",
   "id": "76d488ab",
   "metadata": {},
   "source": [
    "There are primarily two types of user-defined views in SQL, simple and complex views. \n",
    "Simple views are created on one database table, whereas complex views are created on more than one table\n",
    "Inline View: A view based on a subquery in FROM Clause, that subquery creates a temporary table and simplifies the complex query.\n",
    "Materialized View: A view that stores the definition as well as data. It creates replicas of data by storing it physically.\n",
    "\n",
    "Simple View: \n",
    "CREATE VIEW us_students AS\n",
    "SELECT student_id, first_name\n",
    "FROM Students\n",
    "WHERE Country = 'USA';\n",
    "\n",
    "Complex View:\n",
    "CREATE VIEW order_details AS\n",
    "SELECT Customers.customer_id, Customers.first_name, Orders.amount\n",
    "FROM Customers\n",
    "JOIN Orders\n",
    "ON Customers.customer_id = Orders.customer_id;"
   ]
  },
  {
   "cell_type": "markdown",
   "id": "e39e16b3",
   "metadata": {},
   "source": [
    "2.What is the difference between function and stored procedure? Write syntax for creating functions and stored procedures."
   ]
  },
  {
   "cell_type": "markdown",
   "id": "01e9f24e",
   "metadata": {},
   "source": [
    "The function must return a value but in Stored Procedure it is optional. \n",
    "Even a procedure can return zero or n values. \n",
    "Functions can have only input parameters for it whereas Procedures can have input or output parameters. \n",
    "Functions can be called from Procedure whereas Procedures cannot be called from a Function.\n",
    "\n",
    "Function Syntax: \n",
    "CREATE\n",
    "    [DEFINER = user]\n",
    "    FUNCTION [IF NOT EXISTS] sp_name ([func_parameter[,...]])\n",
    "    RETURNS type\n",
    "    [characteristic ...] routine_body\n",
    "    \n",
    "Stored Procedure:\n",
    "CREATE\n",
    "    [DEFINER = user]\n",
    "    PROCEDURE [IF NOT EXISTS] sp_name ([proc_parameter[,...]])\n",
    "    [characteristic ...] routine_body"
   ]
  },
  {
   "cell_type": "markdown",
   "id": "e2619819",
   "metadata": {},
   "source": [
    "3.What is an index in SQL? What are the different types of indexes in SQL? "
   ]
  },
  {
   "cell_type": "markdown",
   "id": "87f936bf",
   "metadata": {},
   "source": [
    "Indexes in SQL are the individual lookup tables, which are utilized by the data set internet searcher to accelerate the general information recovery. The use of the index in SQL is to rapidly discover the data in a data set table without looking through each row of it.\n",
    "\n",
    "Types of indexs:\n",
    "Clustered Index\n",
    "Non-Clustered Index\n",
    "Column Store Index\n",
    "Filtered Index\n",
    "Hash Index\n",
    "Unique Index"
   ]
  },
  {
   "cell_type": "markdown",
   "id": "acf04c47",
   "metadata": {},
   "source": [
    "4.Showcase an example of exception handling in SQL stored procedure."
   ]
  },
  {
   "cell_type": "markdown",
   "id": "727f6b95",
   "metadata": {},
   "source": [
    "BEGIN TRY\n",
    "SELECT 300/0\n",
    "END TRY\n",
    "BEGIN CATCH\n",
    "SELECT ErrorNumber = ERROR_NUMBER(), ErrorSeverity = ERROR_SEVERITY(), ErrorState = ERROR_STATE(),\n",
    "ErrorProcedure = ERROR_PROCEDURE(), ErrorLine = ERROR_LINE(), ErrorMessage = ERROR_MESSAGE()\n",
    "END CATCH"
   ]
  },
  {
   "cell_type": "markdown",
   "id": "fea16f52",
   "metadata": {},
   "source": [
    "5.Create a SQL function to split strings into rows on a given character? \n",
    "Input String: Stephen;peter;berry;Olivier;caroline;\n"
   ]
  },
  {
   "cell_type": "markdown",
   "id": "53971ed0",
   "metadata": {},
   "source": [
    "WITH cte_split(name) AS\n",
    "(\n",
    "    SELECT\n",
    "        name,\n",
    "        LEFT(csv, CHARINDEX(',', csv + ',') - 1),\n",
    "        STUFF(csv, 1, CHARINDEX(',', csv + ','), '')\n",
    "    FROM data;"
   ]
  },
  {
   "cell_type": "markdown",
   "id": "d41aa6b6",
   "metadata": {},
   "source": [
    "6.What is a temporary and a variable table? Write suitable syntax to create temporary tables and variable tables."
   ]
  },
  {
   "cell_type": "markdown",
   "id": "9f7612a2",
   "metadata": {},
   "source": [
    "Temporary Tables are physically created in the tempdb database. \n",
    "These tables act as the normal table and also can have constraints, and indexes like normal tables.\n",
    "Table Variable acts like a variable and exists for a particular batch of query execution.\n",
    "It gets dropped once it comes out of the batch."
   ]
  }
 ],
 "metadata": {
  "kernelspec": {
   "display_name": "Python 3 (ipykernel)",
   "language": "python",
   "name": "python3"
  },
  "language_info": {
   "codemirror_mode": {
    "name": "ipython",
    "version": 3
   },
   "file_extension": ".py",
   "mimetype": "text/x-python",
   "name": "python",
   "nbconvert_exporter": "python",
   "pygments_lexer": "ipython3",
   "version": "3.11.3"
  }
 },
 "nbformat": 4,
 "nbformat_minor": 5
}
