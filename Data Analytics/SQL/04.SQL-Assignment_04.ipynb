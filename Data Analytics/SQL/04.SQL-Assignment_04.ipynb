{
 "cells": [
  {
   "cell_type": "markdown",
   "id": "78f30a8c",
   "metadata": {},
   "source": [
    "# SQL Assignment 4"
   ]
  },
  {
   "cell_type": "markdown",
   "id": "03add789",
   "metadata": {},
   "source": [
    "1.Explain different types of views. Demonstrate with suitable examples."
   ]
  },
  {
   "cell_type": "markdown",
   "id": "3ee79367",
   "metadata": {},
   "source": [
    "There are primarily two types of user-defined views in SQL, simple and complex views. Simple views are created on one database table, whereas complex views are created on more than one table Inline View: A view based on a subquery in FROM Clause, that subquery creates a temporary table and simplifies the complex query. Materialized View: A view that stores the definition as well as data. It creates replicas of data by storing it physically.\n",
    "\n",
    "Simple View: CREATE VIEW us_students AS SELECT student_id, first_name FROM Students WHERE Country = 'USA';\n",
    "\n",
    "Complex View: CREATE VIEW order_details AS SELECT Customers.customer_id, Customers.first_name, Orders.amount FROM Customers JOIN Orders ON Customers.customer_id = Orders.customer_id;"
   ]
  },
  {
   "cell_type": "markdown",
   "id": "d943aeb7",
   "metadata": {},
   "source": [
    "2.What is the difference between function and stored procedure? Write syntax for creating functions and stored procedures."
   ]
  },
  {
   "cell_type": "markdown",
   "id": "fc5b04e8",
   "metadata": {},
   "source": [
    "The function must return a value but in Stored Procedure it is optional. Even a procedure can return zero or n values. Functions can have only input parameters for it whereas Procedures can have input or output parameters. Functions can be called from Procedure whereas Procedures cannot be called from a Function.\n",
    "\n",
    "Function Syntax: CREATE [DEFINER = user] FUNCTION [IF NOT EXISTS] sp_name ([func_parameter[,...]]) RETURNS type [characteristic ...] routine_body\n",
    "\n",
    "Stored Procedure: CREATE [DEFINER = user] PROCEDURE [IF NOT EXISTS] sp_name ([proc_parameter[,...]]) [characteristic ...] routine_body"
   ]
  },
  {
   "cell_type": "markdown",
   "id": "225b2170",
   "metadata": {},
   "source": [
    "3.What is an index in SQL? What are the different types of indexes in SQL?"
   ]
  },
  {
   "cell_type": "markdown",
   "id": "ce22ff17",
   "metadata": {},
   "source": [
    "Indexes in SQL are the individual lookup tables, which are utilized by the data set internet searcher to accelerate the general information recovery. The use of the index in SQL is to rapidly discover the data in a data set table without looking through each row of it.\n",
    "\n",
    "Types of indexs: Clustered Index Non-Clustered Index Column Store Index Filtered Index Hash Index Unique Index"
   ]
  },
  {
   "cell_type": "markdown",
   "id": "c8f96032",
   "metadata": {},
   "source": [
    "4.Showcase an example of exception handling in SQL stored procedure."
   ]
  },
  {
   "cell_type": "markdown",
   "id": "4f33ea2e",
   "metadata": {},
   "source": [
    "BEGIN TRY SELECT 300/0 END TRY BEGIN CATCH SELECT ErrorNumber = ERROR_NUMBER(), ErrorSeverity = ERROR_SEVERITY(), ErrorState = ERROR_STATE(), ErrorProcedure = ERROR_PROCEDURE(), ErrorLine = ERROR_LINE(), ErrorMessage = ERROR_MESSAGE() END CATCH"
   ]
  },
  {
   "cell_type": "markdown",
   "id": "d3a8bb9f",
   "metadata": {},
   "source": [
    "5.Create a SQL function to split strings into rows on a given character? Input String: Stephen;peter;berry;Olivier;caroline;"
   ]
  },
  {
   "cell_type": "markdown",
   "id": "ecf1cc3c",
   "metadata": {},
   "source": [
    "WITH cte_split(name) AS\n",
    "(\n",
    "    SELECT\n",
    "        name,\n",
    "        LEFT(csv, CHARINDEX(',', csv + ',') - 1),\n",
    "        STUFF(csv, 1, CHARINDEX(',', csv + ','), '')\n",
    "    FROM data;"
   ]
  },
  {
   "cell_type": "markdown",
   "id": "cdaa9c7a",
   "metadata": {},
   "source": [
    "6.What is a temporary and a variable table? Write suitable syntax to create temporary tables and variable tables."
   ]
  },
  {
   "cell_type": "markdown",
   "id": "3d756299",
   "metadata": {},
   "source": [
    "Temporary Tables are physically created in the tempdb database. \n",
    "These tables act as the normal table and also can have constraints, and indexes like normal tables.\n",
    "Table Variable acts like a variable and exists for a particular batch of query execution.\n",
    "It gets dropped once it comes out of the batch."
   ]
  }
 ],
 "metadata": {
  "kernelspec": {
   "display_name": "Python 3 (ipykernel)",
   "language": "python",
   "name": "python3"
  },
  "language_info": {
   "codemirror_mode": {
    "name": "ipython",
    "version": 3
   },
   "file_extension": ".py",
   "mimetype": "text/x-python",
   "name": "python",
   "nbconvert_exporter": "python",
   "pygments_lexer": "ipython3",
   "version": "3.11.3"
  }
 },
 "nbformat": 4,
 "nbformat_minor": 5
}
